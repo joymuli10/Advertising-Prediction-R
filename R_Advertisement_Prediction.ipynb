{
  "nbformat": 4,
  "nbformat_minor": 0,
  "metadata": {
    "colab": {
      "name": "R_Advertisement_Prediction",
      "provenance": [],
      "toc_visible": true,
      "authorship_tag": "ABX9TyNWXr2D5RMJo6oR9ZobuGFN",
      "include_colab_link": true
    },
    "kernelspec": {
      "name": "ir",
      "display_name": "R"
    }
  },
  "cells": [
    {
      "cell_type": "markdown",
      "metadata": {
        "id": "view-in-github",
        "colab_type": "text"
      },
      "source": [
        "<a href=\"https://colab.research.google.com/github/joymuli10/Advertising-Prediction-R/blob/main/R_Advertisement_Prediction.ipynb\" target=\"_parent\"><img src=\"https://colab.research.google.com/assets/colab-badge.svg\" alt=\"Open In Colab\"/></a>"
      ]
    },
    {
      "cell_type": "markdown",
      "metadata": {
        "id": "HK3rCN16L3KJ"
      },
      "source": [
        "# Defining the question"
      ]
    },
    {
      "cell_type": "markdown",
      "metadata": {
        "id": "JAmGgjG6P33K"
      },
      "source": [
        "## a). Specifying the question"
      ]
    },
    {
      "cell_type": "markdown",
      "metadata": {
        "id": "K4YXov11UdFr"
      },
      "source": [
        "\n",
        "\n",
        "> Identify which individuals are most likely to click on the advertisements.\n",
        "\n"
      ]
    },
    {
      "cell_type": "markdown",
      "metadata": {
        "id": "fi7CM_82MFDQ"
      },
      "source": [
        "## b). Defining the metric for success"
      ]
    },
    {
      "cell_type": "markdown",
      "metadata": {
        "id": "pEDiHft_MNAO"
      },
      "source": [
        "## c). The context"
      ]
    },
    {
      "cell_type": "markdown",
      "metadata": {
        "id": "o8wGl6C8UnfX"
      },
      "source": [
        "\n",
        "\n",
        "> The dataset to be used for the study was provided by the client to identify which individuals are most likely to click on an ad. The client is an entrepreneur who owns an online cryptography course and would want to advertise it on her blog. \n",
        "\n"
      ]
    },
    {
      "cell_type": "markdown",
      "metadata": {
        "id": "MjblD1IyQCrx"
      },
      "source": [
        "## d). Experimental Design"
      ]
    },
    {
      "cell_type": "markdown",
      "metadata": {
        "id": "E5EcPaPdXPLE"
      },
      "source": [
        "\n",
        "\n",
        "> Below are the steps that will be conducted in this analysis in order to respond to the research question comprehensively:\n",
        "\n",
        "1. Load data and preview data\n",
        "2. Data Cleaning\n",
        "3. Exploratory Analysis\n",
        "4. Recommendations\n",
        "\n"
      ]
    },
    {
      "cell_type": "markdown",
      "metadata": {
        "id": "GtQBVWqmQLdA"
      },
      "source": [
        "## e). Appropriateness of the Data"
      ]
    },
    {
      "cell_type": "markdown",
      "metadata": {
        "id": "ZA6JC8zCWjAV"
      },
      "source": [
        "\n",
        "\n",
        "> The data to be used was provided by the client from previous ads that she ran advertising a related course. It has 1000 rows and 10 columns. The columns are daily_time_spent_on_site, age, area_income, daily_internet_usage, ad_topic_line, city, male, country, timestamp, clicked_on_ad.\n",
        "\n"
      ]
    },
    {
      "cell_type": "markdown",
      "metadata": {
        "id": "uHxg-QUsQZS2"
      },
      "source": [
        "# Reading the Data"
      ]
    },
    {
      "cell_type": "code",
      "metadata": {
        "id": "QhHrs5bgLI0n",
        "outputId": "8ddc082c-acda-4028-b6de-184ce9da6ca0",
        "colab": {
          "base_uri": "https://localhost:8080/"
        }
      },
      "source": [
        "# Installing the needed packages\n",
        "install.packages(\"data.table\") # install package data.table to work with data tables\n",
        "library(data.table) # load package\n",
        "install.packages(\"tidyverse\") # install packages to work with data frame - extends into visualization\n",
        "library(tidyverse)"
      ],
      "execution_count": 1,
      "outputs": [
        {
          "output_type": "stream",
          "text": [
            "Installing package into ‘/usr/local/lib/R/site-library’\n",
            "(as ‘lib’ is unspecified)\n",
            "\n",
            "Installing package into ‘/usr/local/lib/R/site-library’\n",
            "(as ‘lib’ is unspecified)\n",
            "\n",
            "── \u001b[1mAttaching packages\u001b[22m ─────────────────────────────────────── tidyverse 1.3.0 ──\n",
            "\n",
            "\u001b[32m✔\u001b[39m \u001b[34mggplot2\u001b[39m 3.3.2     \u001b[32m✔\u001b[39m \u001b[34mpurrr  \u001b[39m 0.3.4\n",
            "\u001b[32m✔\u001b[39m \u001b[34mtibble \u001b[39m 3.0.4     \u001b[32m✔\u001b[39m \u001b[34mdplyr  \u001b[39m 1.0.2\n",
            "\u001b[32m✔\u001b[39m \u001b[34mtidyr  \u001b[39m 1.1.2     \u001b[32m✔\u001b[39m \u001b[34mstringr\u001b[39m 1.4.0\n",
            "\u001b[32m✔\u001b[39m \u001b[34mreadr  \u001b[39m 1.4.0     \u001b[32m✔\u001b[39m \u001b[34mforcats\u001b[39m 0.5.0\n",
            "\n",
            "── \u001b[1mConflicts\u001b[22m ────────────────────────────────────────── tidyverse_conflicts() ──\n",
            "\u001b[31m✖\u001b[39m \u001b[34mdplyr\u001b[39m::\u001b[32mbetween()\u001b[39m   masks \u001b[34mdata.table\u001b[39m::between()\n",
            "\u001b[31m✖\u001b[39m \u001b[34mdplyr\u001b[39m::\u001b[32mfilter()\u001b[39m    masks \u001b[34mstats\u001b[39m::filter()\n",
            "\u001b[31m✖\u001b[39m \u001b[34mdplyr\u001b[39m::\u001b[32mfirst()\u001b[39m     masks \u001b[34mdata.table\u001b[39m::first()\n",
            "\u001b[31m✖\u001b[39m \u001b[34mdplyr\u001b[39m::\u001b[32mlag()\u001b[39m       masks \u001b[34mstats\u001b[39m::lag()\n",
            "\u001b[31m✖\u001b[39m \u001b[34mdplyr\u001b[39m::\u001b[32mlast()\u001b[39m      masks \u001b[34mdata.table\u001b[39m::last()\n",
            "\u001b[31m✖\u001b[39m \u001b[34mpurrr\u001b[39m::\u001b[32mtranspose()\u001b[39m masks \u001b[34mdata.table\u001b[39m::transpose()\n",
            "\n"
          ],
          "name": "stderr"
        }
      ]
    },
    {
      "cell_type": "code",
      "metadata": {
        "id": "7_mW2riQLgzp",
        "outputId": "0da092bf-361d-4b6b-c981-b8eefe56ee45",
        "colab": {
          "base_uri": "https://localhost:8080/"
        }
      },
      "source": [
        "#Reading the dataset\n",
        "advertising <- read_csv(file = '/content/advertising.csv')"
      ],
      "execution_count": 2,
      "outputs": [
        {
          "output_type": "stream",
          "text": [
            "\n",
            "\u001b[36m──\u001b[39m \u001b[1m\u001b[1mColumn specification\u001b[1m\u001b[22m \u001b[36m────────────────────────────────────────────────────────\u001b[39m\n",
            "cols(\n",
            "  `Daily Time Spent on Site` = \u001b[32mcol_double()\u001b[39m,\n",
            "  Age = \u001b[32mcol_double()\u001b[39m,\n",
            "  `Area Income` = \u001b[32mcol_double()\u001b[39m,\n",
            "  `Daily Internet Usage` = \u001b[32mcol_double()\u001b[39m,\n",
            "  `Ad Topic Line` = \u001b[31mcol_character()\u001b[39m,\n",
            "  City = \u001b[31mcol_character()\u001b[39m,\n",
            "  Male = \u001b[32mcol_double()\u001b[39m,\n",
            "  Country = \u001b[31mcol_character()\u001b[39m,\n",
            "  Timestamp = \u001b[34mcol_datetime(format = \"\")\u001b[39m,\n",
            "  `Clicked on Ad` = \u001b[32mcol_double()\u001b[39m\n",
            ")\n",
            "\n",
            "\n"
          ],
          "name": "stderr"
        }
      ]
    },
    {
      "cell_type": "code",
      "metadata": {
        "id": "0ziXSXMymXfo",
        "outputId": "6ee4392e-173a-47ed-c917-e5f4d7866e43",
        "colab": {
          "base_uri": "https://localhost:8080/",
          "height": 1000
        }
      },
      "source": [
        "# Previewing the dataset\n",
        "advertising"
      ],
      "execution_count": 3,
      "outputs": [
        {
          "output_type": "display_data",
          "data": {
            "text/plain": [
              "     Daily Time Spent on Site Age Area Income Daily Internet Usage\n",
              "1    68.95                    35  61833.90    256.09              \n",
              "2    80.23                    31  68441.85    193.77              \n",
              "3    69.47                    26  59785.94    236.50              \n",
              "4    74.15                    29  54806.18    245.89              \n",
              "5    68.37                    35  73889.99    225.58              \n",
              "6    59.99                    23  59761.56    226.74              \n",
              "7    88.91                    33  53852.85    208.36              \n",
              "8    66.00                    48  24593.33    131.76              \n",
              "9    74.53                    30  68862.00    221.51              \n",
              "10   69.88                    20  55642.32    183.82              \n",
              "11   47.64                    49  45632.51    122.02              \n",
              "12   83.07                    37  62491.01    230.87              \n",
              "13   69.57                    48  51636.92    113.12              \n",
              "14   79.52                    24  51739.63    214.23              \n",
              "15   42.95                    33  30976.00    143.56              \n",
              "16   63.45                    23  52182.23    140.64              \n",
              "17   55.39                    37  23936.86    129.41              \n",
              "18   82.03                    41  71511.08    187.53              \n",
              "19   54.70                    36  31087.54    118.39              \n",
              "20   74.58                    40  23821.72    135.51              \n",
              "21   77.22                    30  64802.33    224.44              \n",
              "22   84.59                    35  60015.57    226.54              \n",
              "23   41.49                    52  32635.70    164.83              \n",
              "24   87.29                    36  61628.72    209.93              \n",
              "25   41.39                    41  68962.32    167.22              \n",
              "26   78.74                    28  64828.00    204.79              \n",
              "27   48.53                    28  38067.08    134.14              \n",
              "28   51.95                    52  58295.82    129.23              \n",
              "29   70.20                    34  32708.94    119.20              \n",
              "30   76.02                    22  46179.97    209.82              \n",
              "⋮    ⋮                        ⋮   ⋮           ⋮                   \n",
              "971  40.18                    29  50760.23    151.96              \n",
              "972  45.17                    48  34418.09    132.07              \n",
              "973  50.48                    50  20592.99    162.43              \n",
              "974  80.87                    28  63528.80    203.30              \n",
              "975  41.88                    40  44217.68    126.11              \n",
              "976  39.87                    48  47929.83    139.34              \n",
              "977  61.84                    45  46024.29    105.63              \n",
              "978  54.97                    31  51900.03    116.38              \n",
              "979  71.40                    30  72188.90    166.31              \n",
              "980  70.29                    31  56974.51    254.65              \n",
              "981  67.26                    57  25682.65    168.41              \n",
              "982  76.58                    46  41884.64    258.26              \n",
              "983  54.37                    38  72196.29    140.77              \n",
              "984  82.79                    32  54429.17    234.81              \n",
              "985  66.47                    31  58037.66    256.39              \n",
              "986  72.88                    44  64011.26    125.12              \n",
              "987  76.44                    28  59967.19    232.68              \n",
              "988  63.37                    43  43155.19    105.04              \n",
              "989  89.71                    48  51501.38    204.40              \n",
              "990  70.96                    31  55187.85    256.40              \n",
              "991  35.79                    44  33813.08    165.62              \n",
              "992  38.96                    38  36497.22    140.67              \n",
              "993  69.17                    40  66193.81    123.62              \n",
              "994  64.20                    27  66200.96    227.63              \n",
              "995  43.70                    28  63126.96    173.01              \n",
              "996  72.97                    30  71384.57    208.58              \n",
              "997  51.30                    45  67782.17    134.42              \n",
              "998  51.63                    51  42415.72    120.37              \n",
              "999  55.55                    19  41920.79    187.95              \n",
              "1000 45.01                    26  29875.80    178.35              \n",
              "     Ad Topic Line                                 City              Male\n",
              "1    Cloned 5thgeneration orchestration            Wrightburgh       0   \n",
              "2    Monitored national standardization            West Jodi         1   \n",
              "3    Organic bottom-line service-desk              Davidton          0   \n",
              "4    Triple-buffered reciprocal time-frame         West Terrifurt    1   \n",
              "5    Robust logistical utilization                 South Manuel      0   \n",
              "6    Sharable client-driven software               Jamieberg         1   \n",
              "7    Enhanced dedicated support                    Brandonstad       0   \n",
              "8    Reactive local challenge                      Port Jefferybury  1   \n",
              "9    Configurable coherent function                West Colin        1   \n",
              "10   Mandatory homogeneous architecture            Ramirezton        1   \n",
              "11   Centralized neutral neural-net                West Brandonton   0   \n",
              "12   Team-oriented grid-enabled Local Area Network East Theresashire 1   \n",
              "13   Centralized content-based focus group         West Katiefurt    1   \n",
              "14   Synergistic fresh-thinking array              North Tara        0   \n",
              "15   Grass-roots coherent extranet                 West William      0   \n",
              "16   Persistent demand-driven interface            New Travistown    1   \n",
              "17   Customizable multi-tasking website            West Dylanberg    0   \n",
              "18   Intuitive dynamic attitude                    Pruittmouth       0   \n",
              "19   Grass-roots solution-oriented conglomeration  Jessicastad       1   \n",
              "20   Advanced 24/7 productivity                    Millertown        1   \n",
              "21   Object-based reciprocal knowledgebase         Port Jacqueline   1   \n",
              "22   Streamlined non-volatile analyzer             Lake Nicole       1   \n",
              "23   Mandatory disintermediate utilization         South John        0   \n",
              "24   Future-proofed methodical protocol            Pamelamouth       1   \n",
              "25   Exclusive neutral parallelism                 Harperborough     0   \n",
              "26   Public-key foreground groupware               Port Danielleberg 1   \n",
              "27   Ameliorated client-driven forecast            West Jeremyside   1   \n",
              "28   Monitored systematic hierarchy                South Cathyfurt   0   \n",
              "29   Open-architected impactful productivity       Palmerside        0   \n",
              "30   Business-focused value-added definition       West Guybury      0   \n",
              "⋮    ⋮                                             ⋮                 ⋮   \n",
              "971  Enhanced intangible portal                    Lake Tracy        0   \n",
              "972  Down-sized background groupware               Taylormouth       1   \n",
              "973  Switchable real-time product                  Dianaville        0   \n",
              "974  Ameliorated local workforce                   Collinsburgh      0   \n",
              "975  Streamlined exuding adapter                   Port Rachel       1   \n",
              "976  Business-focused user-facing benchmark        South Rebecca     1   \n",
              "977  Reactive bi-directional standardization       Port Joshuafort   1   \n",
              "978  Virtual bifurcated portal                     Robinsontown      1   \n",
              "979  Integrated 3rdgeneration monitoring           Beckton           0   \n",
              "980  Balanced responsive open system               New Frankshire    1   \n",
              "981  Focused incremental Graphic Interface         North Derekville  1   \n",
              "982  Secured 24hour policy                         West Sydney       0   \n",
              "983  Up-sized asymmetric firmware                  Lake Matthew      0   \n",
              "984  Distributed fault-tolerant service-desk       Lake Zacharyfurt  1   \n",
              "985  Vision-oriented human-resource synergy        Lindsaymouth      1   \n",
              "986  Customer-focused explicit challenge           Sarahland         0   \n",
              "987  Synchronized human-resource moderator         Port Julie        1   \n",
              "988  Open-architected full-range projection        Michaelshire      1   \n",
              "989  Versatile local forecast                      Sarafurt          1   \n",
              "990  Ameliorated user-facing help-desk             South Denise      0   \n",
              "991  Enterprise-wide tangible model                North Katie       1   \n",
              "992  Versatile mission-critical application        Mauricefurt       1   \n",
              "993  Extended leadingedge solution                 New Patrick       0   \n",
              "994  Phased zero tolerance extranet                Edwardsmouth      1   \n",
              "995  Front-line bifurcated ability                 Nicholasland      0   \n",
              "996  Fundamental modular algorithm                 Duffystad         1   \n",
              "997  Grass-roots cohesive monitoring               New Darlene       1   \n",
              "998  Expanded intangible solution                  South Jessica     1   \n",
              "999  Proactive bandwidth-monitored policy          West Steven       0   \n",
              "1000 Virtual 5thgeneration emulation               Ronniemouth       0   \n",
              "     Country                                             Timestamp          \n",
              "1    Tunisia                                             2016-03-27 00:53:11\n",
              "2    Nauru                                               2016-04-04 01:39:02\n",
              "3    San Marino                                          2016-03-13 20:35:42\n",
              "4    Italy                                               2016-01-10 02:31:19\n",
              "5    Iceland                                             2016-06-03 03:36:18\n",
              "6    Norway                                              2016-05-19 14:30:17\n",
              "7    Myanmar                                             2016-01-28 20:59:32\n",
              "8    Australia                                           2016-03-07 01:40:15\n",
              "9    Grenada                                             2016-04-18 09:33:42\n",
              "10   Ghana                                               2016-07-11 01:42:51\n",
              "11   Qatar                                               2016-03-16 20:19:01\n",
              "12   Burundi                                             2016-05-08 08:10:10\n",
              "13   Egypt                                               2016-06-03 01:14:41\n",
              "14   Bosnia and Herzegovina                              2016-04-20 21:49:22\n",
              "15   Barbados                                            2016-03-24 09:31:49\n",
              "16   Spain                                               2016-03-09 03:41:30\n",
              "17   Palestinian Territory                               2016-01-30 19:20:41\n",
              "18   Afghanistan                                         2016-05-02 07:00:58\n",
              "19   British Indian Ocean Territory (Chagos Archipelago) 2016-02-13 07:53:55\n",
              "20   Russian Federation                                  2016-02-27 04:43:07\n",
              "21   Cameroon                                            2016-01-05 07:52:48\n",
              "22   Cameroon                                            2016-03-18 13:22:35\n",
              "23   Burundi                                             2016-05-20 08:49:33\n",
              "24   Korea                                               2016-03-23 09:43:43\n",
              "25   Tokelau                                             2016-06-13 17:27:09\n",
              "26   Monaco                                              2016-05-27 15:25:52\n",
              "27   Tuvalu                                              2016-02-08 10:46:14\n",
              "28   Greece                                              2016-07-19 08:32:10\n",
              "29   British Virgin Islands                              2016-04-14 05:08:35\n",
              "30   Bouvet Island (Bouvetoya)                           2016-01-27 12:38:16\n",
              "⋮    ⋮                                                   ⋮                  \n",
              "971  Hong Kong                                           2016-06-25 04:21:33\n",
              "972  Palau                                               2016-01-27 14:41:10\n",
              "973  Malawi                                              2016-05-16 18:51:59\n",
              "974  Uruguay                                             2016-02-27 20:20:25\n",
              "975  Cyprus                                              2016-02-28 23:54:44\n",
              "976  Mexico                                              2016-06-13 06:11:33\n",
              "977  Niger                                               2016-05-05 11:07:13\n",
              "978  France                                              2016-07-07 12:17:33\n",
              "979  Japan                                               2016-05-24 17:07:08\n",
              "980  Norfolk Island                                      2016-03-30 14:36:55\n",
              "981  Bulgaria                                            2016-05-27 05:54:03\n",
              "982  Uzbekistan                                          2016-01-03 16:30:51\n",
              "983  Mexico                                              2016-06-25 18:17:53\n",
              "984  Brunei Darussalam                                   2016-02-24 10:36:43\n",
              "985  France                                              2016-03-03 03:13:48\n",
              "986  Yemen                                               2016-04-21 19:56:24\n",
              "987  Northern Mariana Islands                            2016-04-06 17:26:37\n",
              "988  Poland                                              2016-03-23 12:53:23\n",
              "989  Bahrain                                             2016-02-17 07:00:38\n",
              "990  Saint Pierre and Miquelon                           2016-06-26 07:01:47\n",
              "991  Tonga                                               2016-04-20 13:36:42\n",
              "992  Comoros                                             2016-07-21 16:02:40\n",
              "993  Montenegro                                          2016-03-06 11:36:06\n",
              "994  Isle of Man                                         2016-02-11 23:45:01\n",
              "995  Mayotte                                             2016-04-04 03:57:48\n",
              "996  Lebanon                                             2016-02-11 21:49:00\n",
              "997  Bosnia and Herzegovina                              2016-04-22 02:07:01\n",
              "998  Mongolia                                            2016-02-01 17:24:57\n",
              "999  Guatemala                                           2016-03-24 02:35:54\n",
              "1000 Brazil                                              2016-06-03 21:43:21\n",
              "     Clicked on Ad\n",
              "1    0            \n",
              "2    0            \n",
              "3    0            \n",
              "4    0            \n",
              "5    0            \n",
              "6    0            \n",
              "7    0            \n",
              "8    1            \n",
              "9    0            \n",
              "10   0            \n",
              "11   1            \n",
              "12   0            \n",
              "13   1            \n",
              "14   0            \n",
              "15   1            \n",
              "16   1            \n",
              "17   1            \n",
              "18   0            \n",
              "19   1            \n",
              "20   1            \n",
              "21   0            \n",
              "22   0            \n",
              "23   1            \n",
              "24   0            \n",
              "25   1            \n",
              "26   0            \n",
              "27   1            \n",
              "28   1            \n",
              "29   1            \n",
              "30   0            \n",
              "⋮    ⋮            \n",
              "971  1            \n",
              "972  1            \n",
              "973  1            \n",
              "974  0            \n",
              "975  1            \n",
              "976  1            \n",
              "977  1            \n",
              "978  1            \n",
              "979  0            \n",
              "980  0            \n",
              "981  1            \n",
              "982  0            \n",
              "983  1            \n",
              "984  0            \n",
              "985  0            \n",
              "986  1            \n",
              "987  0            \n",
              "988  1            \n",
              "989  0            \n",
              "990  0            \n",
              "991  1            \n",
              "992  1            \n",
              "993  1            \n",
              "994  0            \n",
              "995  1            \n",
              "996  1            \n",
              "997  1            \n",
              "998  1            \n",
              "999  0            \n",
              "1000 1            "
            ],
            "text/latex": "A spec\\_tbl\\_df: 1000 × 10\n\\begin{tabular}{llllllllll}\n Daily Time Spent on Site & Age & Area Income & Daily Internet Usage & Ad Topic Line & City & Male & Country & Timestamp & Clicked on Ad\\\\\n <dbl> & <dbl> & <dbl> & <dbl> & <chr> & <chr> & <dbl> & <chr> & <dttm> & <dbl>\\\\\n\\hline\n\t 68.95 & 35 & 61833.90 & 256.09 & Cloned 5thgeneration orchestration            & Wrightburgh       & 0 & Tunisia                                             & 2016-03-27 00:53:11 & 0\\\\\n\t 80.23 & 31 & 68441.85 & 193.77 & Monitored national standardization            & West Jodi         & 1 & Nauru                                               & 2016-04-04 01:39:02 & 0\\\\\n\t 69.47 & 26 & 59785.94 & 236.50 & Organic bottom-line service-desk              & Davidton          & 0 & San Marino                                          & 2016-03-13 20:35:42 & 0\\\\\n\t 74.15 & 29 & 54806.18 & 245.89 & Triple-buffered reciprocal time-frame         & West Terrifurt    & 1 & Italy                                               & 2016-01-10 02:31:19 & 0\\\\\n\t 68.37 & 35 & 73889.99 & 225.58 & Robust logistical utilization                 & South Manuel      & 0 & Iceland                                             & 2016-06-03 03:36:18 & 0\\\\\n\t 59.99 & 23 & 59761.56 & 226.74 & Sharable client-driven software               & Jamieberg         & 1 & Norway                                              & 2016-05-19 14:30:17 & 0\\\\\n\t 88.91 & 33 & 53852.85 & 208.36 & Enhanced dedicated support                    & Brandonstad       & 0 & Myanmar                                             & 2016-01-28 20:59:32 & 0\\\\\n\t 66.00 & 48 & 24593.33 & 131.76 & Reactive local challenge                      & Port Jefferybury  & 1 & Australia                                           & 2016-03-07 01:40:15 & 1\\\\\n\t 74.53 & 30 & 68862.00 & 221.51 & Configurable coherent function                & West Colin        & 1 & Grenada                                             & 2016-04-18 09:33:42 & 0\\\\\n\t 69.88 & 20 & 55642.32 & 183.82 & Mandatory homogeneous architecture            & Ramirezton        & 1 & Ghana                                               & 2016-07-11 01:42:51 & 0\\\\\n\t 47.64 & 49 & 45632.51 & 122.02 & Centralized neutral neural-net                & West Brandonton   & 0 & Qatar                                               & 2016-03-16 20:19:01 & 1\\\\\n\t 83.07 & 37 & 62491.01 & 230.87 & Team-oriented grid-enabled Local Area Network & East Theresashire & 1 & Burundi                                             & 2016-05-08 08:10:10 & 0\\\\\n\t 69.57 & 48 & 51636.92 & 113.12 & Centralized content-based focus group         & West Katiefurt    & 1 & Egypt                                               & 2016-06-03 01:14:41 & 1\\\\\n\t 79.52 & 24 & 51739.63 & 214.23 & Synergistic fresh-thinking array              & North Tara        & 0 & Bosnia and Herzegovina                              & 2016-04-20 21:49:22 & 0\\\\\n\t 42.95 & 33 & 30976.00 & 143.56 & Grass-roots coherent extranet                 & West William      & 0 & Barbados                                            & 2016-03-24 09:31:49 & 1\\\\\n\t 63.45 & 23 & 52182.23 & 140.64 & Persistent demand-driven interface            & New Travistown    & 1 & Spain                                               & 2016-03-09 03:41:30 & 1\\\\\n\t 55.39 & 37 & 23936.86 & 129.41 & Customizable multi-tasking website            & West Dylanberg    & 0 & Palestinian Territory                               & 2016-01-30 19:20:41 & 1\\\\\n\t 82.03 & 41 & 71511.08 & 187.53 & Intuitive dynamic attitude                    & Pruittmouth       & 0 & Afghanistan                                         & 2016-05-02 07:00:58 & 0\\\\\n\t 54.70 & 36 & 31087.54 & 118.39 & Grass-roots solution-oriented conglomeration  & Jessicastad       & 1 & British Indian Ocean Territory (Chagos Archipelago) & 2016-02-13 07:53:55 & 1\\\\\n\t 74.58 & 40 & 23821.72 & 135.51 & Advanced 24/7 productivity                    & Millertown        & 1 & Russian Federation                                  & 2016-02-27 04:43:07 & 1\\\\\n\t 77.22 & 30 & 64802.33 & 224.44 & Object-based reciprocal knowledgebase         & Port Jacqueline   & 1 & Cameroon                                            & 2016-01-05 07:52:48 & 0\\\\\n\t 84.59 & 35 & 60015.57 & 226.54 & Streamlined non-volatile analyzer             & Lake Nicole       & 1 & Cameroon                                            & 2016-03-18 13:22:35 & 0\\\\\n\t 41.49 & 52 & 32635.70 & 164.83 & Mandatory disintermediate utilization         & South John        & 0 & Burundi                                             & 2016-05-20 08:49:33 & 1\\\\\n\t 87.29 & 36 & 61628.72 & 209.93 & Future-proofed methodical protocol            & Pamelamouth       & 1 & Korea                                               & 2016-03-23 09:43:43 & 0\\\\\n\t 41.39 & 41 & 68962.32 & 167.22 & Exclusive neutral parallelism                 & Harperborough     & 0 & Tokelau                                             & 2016-06-13 17:27:09 & 1\\\\\n\t 78.74 & 28 & 64828.00 & 204.79 & Public-key foreground groupware               & Port Danielleberg & 1 & Monaco                                              & 2016-05-27 15:25:52 & 0\\\\\n\t 48.53 & 28 & 38067.08 & 134.14 & Ameliorated client-driven forecast            & West Jeremyside   & 1 & Tuvalu                                              & 2016-02-08 10:46:14 & 1\\\\\n\t 51.95 & 52 & 58295.82 & 129.23 & Monitored systematic hierarchy                & South Cathyfurt   & 0 & Greece                                              & 2016-07-19 08:32:10 & 1\\\\\n\t 70.20 & 34 & 32708.94 & 119.20 & Open-architected impactful productivity       & Palmerside        & 0 & British Virgin Islands                              & 2016-04-14 05:08:35 & 1\\\\\n\t 76.02 & 22 & 46179.97 & 209.82 & Business-focused value-added definition       & West Guybury      & 0 & Bouvet Island (Bouvetoya)                           & 2016-01-27 12:38:16 & 0\\\\\n\t ⋮ & ⋮ & ⋮ & ⋮ & ⋮ & ⋮ & ⋮ & ⋮ & ⋮ & ⋮\\\\\n\t 40.18 & 29 & 50760.23 & 151.96 & Enhanced intangible portal              & Lake Tracy       & 0 & Hong Kong                 & 2016-06-25 04:21:33 & 1\\\\\n\t 45.17 & 48 & 34418.09 & 132.07 & Down-sized background groupware         & Taylormouth      & 1 & Palau                     & 2016-01-27 14:41:10 & 1\\\\\n\t 50.48 & 50 & 20592.99 & 162.43 & Switchable real-time product            & Dianaville       & 0 & Malawi                    & 2016-05-16 18:51:59 & 1\\\\\n\t 80.87 & 28 & 63528.80 & 203.30 & Ameliorated local workforce             & Collinsburgh     & 0 & Uruguay                   & 2016-02-27 20:20:25 & 0\\\\\n\t 41.88 & 40 & 44217.68 & 126.11 & Streamlined exuding adapter             & Port Rachel      & 1 & Cyprus                    & 2016-02-28 23:54:44 & 1\\\\\n\t 39.87 & 48 & 47929.83 & 139.34 & Business-focused user-facing benchmark  & South Rebecca    & 1 & Mexico                    & 2016-06-13 06:11:33 & 1\\\\\n\t 61.84 & 45 & 46024.29 & 105.63 & Reactive bi-directional standardization & Port Joshuafort  & 1 & Niger                     & 2016-05-05 11:07:13 & 1\\\\\n\t 54.97 & 31 & 51900.03 & 116.38 & Virtual bifurcated portal               & Robinsontown     & 1 & France                    & 2016-07-07 12:17:33 & 1\\\\\n\t 71.40 & 30 & 72188.90 & 166.31 & Integrated 3rdgeneration monitoring     & Beckton          & 0 & Japan                     & 2016-05-24 17:07:08 & 0\\\\\n\t 70.29 & 31 & 56974.51 & 254.65 & Balanced responsive open system         & New Frankshire   & 1 & Norfolk Island            & 2016-03-30 14:36:55 & 0\\\\\n\t 67.26 & 57 & 25682.65 & 168.41 & Focused incremental Graphic Interface   & North Derekville & 1 & Bulgaria                  & 2016-05-27 05:54:03 & 1\\\\\n\t 76.58 & 46 & 41884.64 & 258.26 & Secured 24hour policy                   & West Sydney      & 0 & Uzbekistan                & 2016-01-03 16:30:51 & 0\\\\\n\t 54.37 & 38 & 72196.29 & 140.77 & Up-sized asymmetric firmware            & Lake Matthew     & 0 & Mexico                    & 2016-06-25 18:17:53 & 1\\\\\n\t 82.79 & 32 & 54429.17 & 234.81 & Distributed fault-tolerant service-desk & Lake Zacharyfurt & 1 & Brunei Darussalam         & 2016-02-24 10:36:43 & 0\\\\\n\t 66.47 & 31 & 58037.66 & 256.39 & Vision-oriented human-resource synergy  & Lindsaymouth     & 1 & France                    & 2016-03-03 03:13:48 & 0\\\\\n\t 72.88 & 44 & 64011.26 & 125.12 & Customer-focused explicit challenge     & Sarahland        & 0 & Yemen                     & 2016-04-21 19:56:24 & 1\\\\\n\t 76.44 & 28 & 59967.19 & 232.68 & Synchronized human-resource moderator   & Port Julie       & 1 & Northern Mariana Islands  & 2016-04-06 17:26:37 & 0\\\\\n\t 63.37 & 43 & 43155.19 & 105.04 & Open-architected full-range projection  & Michaelshire     & 1 & Poland                    & 2016-03-23 12:53:23 & 1\\\\\n\t 89.71 & 48 & 51501.38 & 204.40 & Versatile local forecast                & Sarafurt         & 1 & Bahrain                   & 2016-02-17 07:00:38 & 0\\\\\n\t 70.96 & 31 & 55187.85 & 256.40 & Ameliorated user-facing help-desk       & South Denise     & 0 & Saint Pierre and Miquelon & 2016-06-26 07:01:47 & 0\\\\\n\t 35.79 & 44 & 33813.08 & 165.62 & Enterprise-wide tangible model          & North Katie      & 1 & Tonga                     & 2016-04-20 13:36:42 & 1\\\\\n\t 38.96 & 38 & 36497.22 & 140.67 & Versatile mission-critical application  & Mauricefurt      & 1 & Comoros                   & 2016-07-21 16:02:40 & 1\\\\\n\t 69.17 & 40 & 66193.81 & 123.62 & Extended leadingedge solution           & New Patrick      & 0 & Montenegro                & 2016-03-06 11:36:06 & 1\\\\\n\t 64.20 & 27 & 66200.96 & 227.63 & Phased zero tolerance extranet          & Edwardsmouth     & 1 & Isle of Man               & 2016-02-11 23:45:01 & 0\\\\\n\t 43.70 & 28 & 63126.96 & 173.01 & Front-line bifurcated ability           & Nicholasland     & 0 & Mayotte                   & 2016-04-04 03:57:48 & 1\\\\\n\t 72.97 & 30 & 71384.57 & 208.58 & Fundamental modular algorithm           & Duffystad        & 1 & Lebanon                   & 2016-02-11 21:49:00 & 1\\\\\n\t 51.30 & 45 & 67782.17 & 134.42 & Grass-roots cohesive monitoring         & New Darlene      & 1 & Bosnia and Herzegovina    & 2016-04-22 02:07:01 & 1\\\\\n\t 51.63 & 51 & 42415.72 & 120.37 & Expanded intangible solution            & South Jessica    & 1 & Mongolia                  & 2016-02-01 17:24:57 & 1\\\\\n\t 55.55 & 19 & 41920.79 & 187.95 & Proactive bandwidth-monitored policy    & West Steven      & 0 & Guatemala                 & 2016-03-24 02:35:54 & 0\\\\\n\t 45.01 & 26 & 29875.80 & 178.35 & Virtual 5thgeneration emulation         & Ronniemouth      & 0 & Brazil                    & 2016-06-03 21:43:21 & 1\\\\\n\\end{tabular}\n",
            "text/markdown": "\nA spec_tbl_df: 1000 × 10\n\n| Daily Time Spent on Site &lt;dbl&gt; | Age &lt;dbl&gt; | Area Income &lt;dbl&gt; | Daily Internet Usage &lt;dbl&gt; | Ad Topic Line &lt;chr&gt; | City &lt;chr&gt; | Male &lt;dbl&gt; | Country &lt;chr&gt; | Timestamp &lt;dttm&gt; | Clicked on Ad &lt;dbl&gt; |\n|---|---|---|---|---|---|---|---|---|---|\n| 68.95 | 35 | 61833.90 | 256.09 | Cloned 5thgeneration orchestration            | Wrightburgh       | 0 | Tunisia                                             | 2016-03-27 00:53:11 | 0 |\n| 80.23 | 31 | 68441.85 | 193.77 | Monitored national standardization            | West Jodi         | 1 | Nauru                                               | 2016-04-04 01:39:02 | 0 |\n| 69.47 | 26 | 59785.94 | 236.50 | Organic bottom-line service-desk              | Davidton          | 0 | San Marino                                          | 2016-03-13 20:35:42 | 0 |\n| 74.15 | 29 | 54806.18 | 245.89 | Triple-buffered reciprocal time-frame         | West Terrifurt    | 1 | Italy                                               | 2016-01-10 02:31:19 | 0 |\n| 68.37 | 35 | 73889.99 | 225.58 | Robust logistical utilization                 | South Manuel      | 0 | Iceland                                             | 2016-06-03 03:36:18 | 0 |\n| 59.99 | 23 | 59761.56 | 226.74 | Sharable client-driven software               | Jamieberg         | 1 | Norway                                              | 2016-05-19 14:30:17 | 0 |\n| 88.91 | 33 | 53852.85 | 208.36 | Enhanced dedicated support                    | Brandonstad       | 0 | Myanmar                                             | 2016-01-28 20:59:32 | 0 |\n| 66.00 | 48 | 24593.33 | 131.76 | Reactive local challenge                      | Port Jefferybury  | 1 | Australia                                           | 2016-03-07 01:40:15 | 1 |\n| 74.53 | 30 | 68862.00 | 221.51 | Configurable coherent function                | West Colin        | 1 | Grenada                                             | 2016-04-18 09:33:42 | 0 |\n| 69.88 | 20 | 55642.32 | 183.82 | Mandatory homogeneous architecture            | Ramirezton        | 1 | Ghana                                               | 2016-07-11 01:42:51 | 0 |\n| 47.64 | 49 | 45632.51 | 122.02 | Centralized neutral neural-net                | West Brandonton   | 0 | Qatar                                               | 2016-03-16 20:19:01 | 1 |\n| 83.07 | 37 | 62491.01 | 230.87 | Team-oriented grid-enabled Local Area Network | East Theresashire | 1 | Burundi                                             | 2016-05-08 08:10:10 | 0 |\n| 69.57 | 48 | 51636.92 | 113.12 | Centralized content-based focus group         | West Katiefurt    | 1 | Egypt                                               | 2016-06-03 01:14:41 | 1 |\n| 79.52 | 24 | 51739.63 | 214.23 | Synergistic fresh-thinking array              | North Tara        | 0 | Bosnia and Herzegovina                              | 2016-04-20 21:49:22 | 0 |\n| 42.95 | 33 | 30976.00 | 143.56 | Grass-roots coherent extranet                 | West William      | 0 | Barbados                                            | 2016-03-24 09:31:49 | 1 |\n| 63.45 | 23 | 52182.23 | 140.64 | Persistent demand-driven interface            | New Travistown    | 1 | Spain                                               | 2016-03-09 03:41:30 | 1 |\n| 55.39 | 37 | 23936.86 | 129.41 | Customizable multi-tasking website            | West Dylanberg    | 0 | Palestinian Territory                               | 2016-01-30 19:20:41 | 1 |\n| 82.03 | 41 | 71511.08 | 187.53 | Intuitive dynamic attitude                    | Pruittmouth       | 0 | Afghanistan                                         | 2016-05-02 07:00:58 | 0 |\n| 54.70 | 36 | 31087.54 | 118.39 | Grass-roots solution-oriented conglomeration  | Jessicastad       | 1 | British Indian Ocean Territory (Chagos Archipelago) | 2016-02-13 07:53:55 | 1 |\n| 74.58 | 40 | 23821.72 | 135.51 | Advanced 24/7 productivity                    | Millertown        | 1 | Russian Federation                                  | 2016-02-27 04:43:07 | 1 |\n| 77.22 | 30 | 64802.33 | 224.44 | Object-based reciprocal knowledgebase         | Port Jacqueline   | 1 | Cameroon                                            | 2016-01-05 07:52:48 | 0 |\n| 84.59 | 35 | 60015.57 | 226.54 | Streamlined non-volatile analyzer             | Lake Nicole       | 1 | Cameroon                                            | 2016-03-18 13:22:35 | 0 |\n| 41.49 | 52 | 32635.70 | 164.83 | Mandatory disintermediate utilization         | South John        | 0 | Burundi                                             | 2016-05-20 08:49:33 | 1 |\n| 87.29 | 36 | 61628.72 | 209.93 | Future-proofed methodical protocol            | Pamelamouth       | 1 | Korea                                               | 2016-03-23 09:43:43 | 0 |\n| 41.39 | 41 | 68962.32 | 167.22 | Exclusive neutral parallelism                 | Harperborough     | 0 | Tokelau                                             | 2016-06-13 17:27:09 | 1 |\n| 78.74 | 28 | 64828.00 | 204.79 | Public-key foreground groupware               | Port Danielleberg | 1 | Monaco                                              | 2016-05-27 15:25:52 | 0 |\n| 48.53 | 28 | 38067.08 | 134.14 | Ameliorated client-driven forecast            | West Jeremyside   | 1 | Tuvalu                                              | 2016-02-08 10:46:14 | 1 |\n| 51.95 | 52 | 58295.82 | 129.23 | Monitored systematic hierarchy                | South Cathyfurt   | 0 | Greece                                              | 2016-07-19 08:32:10 | 1 |\n| 70.20 | 34 | 32708.94 | 119.20 | Open-architected impactful productivity       | Palmerside        | 0 | British Virgin Islands                              | 2016-04-14 05:08:35 | 1 |\n| 76.02 | 22 | 46179.97 | 209.82 | Business-focused value-added definition       | West Guybury      | 0 | Bouvet Island (Bouvetoya)                           | 2016-01-27 12:38:16 | 0 |\n| ⋮ | ⋮ | ⋮ | ⋮ | ⋮ | ⋮ | ⋮ | ⋮ | ⋮ | ⋮ |\n| 40.18 | 29 | 50760.23 | 151.96 | Enhanced intangible portal              | Lake Tracy       | 0 | Hong Kong                 | 2016-06-25 04:21:33 | 1 |\n| 45.17 | 48 | 34418.09 | 132.07 | Down-sized background groupware         | Taylormouth      | 1 | Palau                     | 2016-01-27 14:41:10 | 1 |\n| 50.48 | 50 | 20592.99 | 162.43 | Switchable real-time product            | Dianaville       | 0 | Malawi                    | 2016-05-16 18:51:59 | 1 |\n| 80.87 | 28 | 63528.80 | 203.30 | Ameliorated local workforce             | Collinsburgh     | 0 | Uruguay                   | 2016-02-27 20:20:25 | 0 |\n| 41.88 | 40 | 44217.68 | 126.11 | Streamlined exuding adapter             | Port Rachel      | 1 | Cyprus                    | 2016-02-28 23:54:44 | 1 |\n| 39.87 | 48 | 47929.83 | 139.34 | Business-focused user-facing benchmark  | South Rebecca    | 1 | Mexico                    | 2016-06-13 06:11:33 | 1 |\n| 61.84 | 45 | 46024.29 | 105.63 | Reactive bi-directional standardization | Port Joshuafort  | 1 | Niger                     | 2016-05-05 11:07:13 | 1 |\n| 54.97 | 31 | 51900.03 | 116.38 | Virtual bifurcated portal               | Robinsontown     | 1 | France                    | 2016-07-07 12:17:33 | 1 |\n| 71.40 | 30 | 72188.90 | 166.31 | Integrated 3rdgeneration monitoring     | Beckton          | 0 | Japan                     | 2016-05-24 17:07:08 | 0 |\n| 70.29 | 31 | 56974.51 | 254.65 | Balanced responsive open system         | New Frankshire   | 1 | Norfolk Island            | 2016-03-30 14:36:55 | 0 |\n| 67.26 | 57 | 25682.65 | 168.41 | Focused incremental Graphic Interface   | North Derekville | 1 | Bulgaria                  | 2016-05-27 05:54:03 | 1 |\n| 76.58 | 46 | 41884.64 | 258.26 | Secured 24hour policy                   | West Sydney      | 0 | Uzbekistan                | 2016-01-03 16:30:51 | 0 |\n| 54.37 | 38 | 72196.29 | 140.77 | Up-sized asymmetric firmware            | Lake Matthew     | 0 | Mexico                    | 2016-06-25 18:17:53 | 1 |\n| 82.79 | 32 | 54429.17 | 234.81 | Distributed fault-tolerant service-desk | Lake Zacharyfurt | 1 | Brunei Darussalam         | 2016-02-24 10:36:43 | 0 |\n| 66.47 | 31 | 58037.66 | 256.39 | Vision-oriented human-resource synergy  | Lindsaymouth     | 1 | France                    | 2016-03-03 03:13:48 | 0 |\n| 72.88 | 44 | 64011.26 | 125.12 | Customer-focused explicit challenge     | Sarahland        | 0 | Yemen                     | 2016-04-21 19:56:24 | 1 |\n| 76.44 | 28 | 59967.19 | 232.68 | Synchronized human-resource moderator   | Port Julie       | 1 | Northern Mariana Islands  | 2016-04-06 17:26:37 | 0 |\n| 63.37 | 43 | 43155.19 | 105.04 | Open-architected full-range projection  | Michaelshire     | 1 | Poland                    | 2016-03-23 12:53:23 | 1 |\n| 89.71 | 48 | 51501.38 | 204.40 | Versatile local forecast                | Sarafurt         | 1 | Bahrain                   | 2016-02-17 07:00:38 | 0 |\n| 70.96 | 31 | 55187.85 | 256.40 | Ameliorated user-facing help-desk       | South Denise     | 0 | Saint Pierre and Miquelon | 2016-06-26 07:01:47 | 0 |\n| 35.79 | 44 | 33813.08 | 165.62 | Enterprise-wide tangible model          | North Katie      | 1 | Tonga                     | 2016-04-20 13:36:42 | 1 |\n| 38.96 | 38 | 36497.22 | 140.67 | Versatile mission-critical application  | Mauricefurt      | 1 | Comoros                   | 2016-07-21 16:02:40 | 1 |\n| 69.17 | 40 | 66193.81 | 123.62 | Extended leadingedge solution           | New Patrick      | 0 | Montenegro                | 2016-03-06 11:36:06 | 1 |\n| 64.20 | 27 | 66200.96 | 227.63 | Phased zero tolerance extranet          | Edwardsmouth     | 1 | Isle of Man               | 2016-02-11 23:45:01 | 0 |\n| 43.70 | 28 | 63126.96 | 173.01 | Front-line bifurcated ability           | Nicholasland     | 0 | Mayotte                   | 2016-04-04 03:57:48 | 1 |\n| 72.97 | 30 | 71384.57 | 208.58 | Fundamental modular algorithm           | Duffystad        | 1 | Lebanon                   | 2016-02-11 21:49:00 | 1 |\n| 51.30 | 45 | 67782.17 | 134.42 | Grass-roots cohesive monitoring         | New Darlene      | 1 | Bosnia and Herzegovina    | 2016-04-22 02:07:01 | 1 |\n| 51.63 | 51 | 42415.72 | 120.37 | Expanded intangible solution            | South Jessica    | 1 | Mongolia                  | 2016-02-01 17:24:57 | 1 |\n| 55.55 | 19 | 41920.79 | 187.95 | Proactive bandwidth-monitored policy    | West Steven      | 0 | Guatemala                 | 2016-03-24 02:35:54 | 0 |\n| 45.01 | 26 | 29875.80 | 178.35 | Virtual 5thgeneration emulation         | Ronniemouth      | 0 | Brazil                    | 2016-06-03 21:43:21 | 1 |\n\n",
            "text/html": [
              "<table>\n",
              "<caption>A spec_tbl_df: 1000 × 10</caption>\n",
              "<thead>\n",
              "\t<tr><th scope=col>Daily Time Spent on Site</th><th scope=col>Age</th><th scope=col>Area Income</th><th scope=col>Daily Internet Usage</th><th scope=col>Ad Topic Line</th><th scope=col>City</th><th scope=col>Male</th><th scope=col>Country</th><th scope=col>Timestamp</th><th scope=col>Clicked on Ad</th></tr>\n",
              "\t<tr><th scope=col>&lt;dbl&gt;</th><th scope=col>&lt;dbl&gt;</th><th scope=col>&lt;dbl&gt;</th><th scope=col>&lt;dbl&gt;</th><th scope=col>&lt;chr&gt;</th><th scope=col>&lt;chr&gt;</th><th scope=col>&lt;dbl&gt;</th><th scope=col>&lt;chr&gt;</th><th scope=col>&lt;dttm&gt;</th><th scope=col>&lt;dbl&gt;</th></tr>\n",
              "</thead>\n",
              "<tbody>\n",
              "\t<tr><td>68.95</td><td>35</td><td>61833.90</td><td>256.09</td><td>Cloned 5thgeneration orchestration           </td><td>Wrightburgh      </td><td>0</td><td>Tunisia                                            </td><td>2016-03-27 00:53:11</td><td>0</td></tr>\n",
              "\t<tr><td>80.23</td><td>31</td><td>68441.85</td><td>193.77</td><td>Monitored national standardization           </td><td>West Jodi        </td><td>1</td><td>Nauru                                              </td><td>2016-04-04 01:39:02</td><td>0</td></tr>\n",
              "\t<tr><td>69.47</td><td>26</td><td>59785.94</td><td>236.50</td><td>Organic bottom-line service-desk             </td><td>Davidton         </td><td>0</td><td>San Marino                                         </td><td>2016-03-13 20:35:42</td><td>0</td></tr>\n",
              "\t<tr><td>74.15</td><td>29</td><td>54806.18</td><td>245.89</td><td>Triple-buffered reciprocal time-frame        </td><td>West Terrifurt   </td><td>1</td><td>Italy                                              </td><td>2016-01-10 02:31:19</td><td>0</td></tr>\n",
              "\t<tr><td>68.37</td><td>35</td><td>73889.99</td><td>225.58</td><td>Robust logistical utilization                </td><td>South Manuel     </td><td>0</td><td>Iceland                                            </td><td>2016-06-03 03:36:18</td><td>0</td></tr>\n",
              "\t<tr><td>59.99</td><td>23</td><td>59761.56</td><td>226.74</td><td>Sharable client-driven software              </td><td>Jamieberg        </td><td>1</td><td>Norway                                             </td><td>2016-05-19 14:30:17</td><td>0</td></tr>\n",
              "\t<tr><td>88.91</td><td>33</td><td>53852.85</td><td>208.36</td><td>Enhanced dedicated support                   </td><td>Brandonstad      </td><td>0</td><td>Myanmar                                            </td><td>2016-01-28 20:59:32</td><td>0</td></tr>\n",
              "\t<tr><td>66.00</td><td>48</td><td>24593.33</td><td>131.76</td><td>Reactive local challenge                     </td><td>Port Jefferybury </td><td>1</td><td>Australia                                          </td><td>2016-03-07 01:40:15</td><td>1</td></tr>\n",
              "\t<tr><td>74.53</td><td>30</td><td>68862.00</td><td>221.51</td><td>Configurable coherent function               </td><td>West Colin       </td><td>1</td><td>Grenada                                            </td><td>2016-04-18 09:33:42</td><td>0</td></tr>\n",
              "\t<tr><td>69.88</td><td>20</td><td>55642.32</td><td>183.82</td><td>Mandatory homogeneous architecture           </td><td>Ramirezton       </td><td>1</td><td>Ghana                                              </td><td>2016-07-11 01:42:51</td><td>0</td></tr>\n",
              "\t<tr><td>47.64</td><td>49</td><td>45632.51</td><td>122.02</td><td>Centralized neutral neural-net               </td><td>West Brandonton  </td><td>0</td><td>Qatar                                              </td><td>2016-03-16 20:19:01</td><td>1</td></tr>\n",
              "\t<tr><td>83.07</td><td>37</td><td>62491.01</td><td>230.87</td><td>Team-oriented grid-enabled Local Area Network</td><td>East Theresashire</td><td>1</td><td>Burundi                                            </td><td>2016-05-08 08:10:10</td><td>0</td></tr>\n",
              "\t<tr><td>69.57</td><td>48</td><td>51636.92</td><td>113.12</td><td>Centralized content-based focus group        </td><td>West Katiefurt   </td><td>1</td><td>Egypt                                              </td><td>2016-06-03 01:14:41</td><td>1</td></tr>\n",
              "\t<tr><td>79.52</td><td>24</td><td>51739.63</td><td>214.23</td><td>Synergistic fresh-thinking array             </td><td>North Tara       </td><td>0</td><td>Bosnia and Herzegovina                             </td><td>2016-04-20 21:49:22</td><td>0</td></tr>\n",
              "\t<tr><td>42.95</td><td>33</td><td>30976.00</td><td>143.56</td><td>Grass-roots coherent extranet                </td><td>West William     </td><td>0</td><td>Barbados                                           </td><td>2016-03-24 09:31:49</td><td>1</td></tr>\n",
              "\t<tr><td>63.45</td><td>23</td><td>52182.23</td><td>140.64</td><td>Persistent demand-driven interface           </td><td>New Travistown   </td><td>1</td><td>Spain                                              </td><td>2016-03-09 03:41:30</td><td>1</td></tr>\n",
              "\t<tr><td>55.39</td><td>37</td><td>23936.86</td><td>129.41</td><td>Customizable multi-tasking website           </td><td>West Dylanberg   </td><td>0</td><td>Palestinian Territory                              </td><td>2016-01-30 19:20:41</td><td>1</td></tr>\n",
              "\t<tr><td>82.03</td><td>41</td><td>71511.08</td><td>187.53</td><td>Intuitive dynamic attitude                   </td><td>Pruittmouth      </td><td>0</td><td>Afghanistan                                        </td><td>2016-05-02 07:00:58</td><td>0</td></tr>\n",
              "\t<tr><td>54.70</td><td>36</td><td>31087.54</td><td>118.39</td><td>Grass-roots solution-oriented conglomeration </td><td>Jessicastad      </td><td>1</td><td>British Indian Ocean Territory (Chagos Archipelago)</td><td>2016-02-13 07:53:55</td><td>1</td></tr>\n",
              "\t<tr><td>74.58</td><td>40</td><td>23821.72</td><td>135.51</td><td>Advanced 24/7 productivity                   </td><td>Millertown       </td><td>1</td><td>Russian Federation                                 </td><td>2016-02-27 04:43:07</td><td>1</td></tr>\n",
              "\t<tr><td>77.22</td><td>30</td><td>64802.33</td><td>224.44</td><td>Object-based reciprocal knowledgebase        </td><td>Port Jacqueline  </td><td>1</td><td>Cameroon                                           </td><td>2016-01-05 07:52:48</td><td>0</td></tr>\n",
              "\t<tr><td>84.59</td><td>35</td><td>60015.57</td><td>226.54</td><td>Streamlined non-volatile analyzer            </td><td>Lake Nicole      </td><td>1</td><td>Cameroon                                           </td><td>2016-03-18 13:22:35</td><td>0</td></tr>\n",
              "\t<tr><td>41.49</td><td>52</td><td>32635.70</td><td>164.83</td><td>Mandatory disintermediate utilization        </td><td>South John       </td><td>0</td><td>Burundi                                            </td><td>2016-05-20 08:49:33</td><td>1</td></tr>\n",
              "\t<tr><td>87.29</td><td>36</td><td>61628.72</td><td>209.93</td><td>Future-proofed methodical protocol           </td><td>Pamelamouth      </td><td>1</td><td>Korea                                              </td><td>2016-03-23 09:43:43</td><td>0</td></tr>\n",
              "\t<tr><td>41.39</td><td>41</td><td>68962.32</td><td>167.22</td><td>Exclusive neutral parallelism                </td><td>Harperborough    </td><td>0</td><td>Tokelau                                            </td><td>2016-06-13 17:27:09</td><td>1</td></tr>\n",
              "\t<tr><td>78.74</td><td>28</td><td>64828.00</td><td>204.79</td><td>Public-key foreground groupware              </td><td>Port Danielleberg</td><td>1</td><td>Monaco                                             </td><td>2016-05-27 15:25:52</td><td>0</td></tr>\n",
              "\t<tr><td>48.53</td><td>28</td><td>38067.08</td><td>134.14</td><td>Ameliorated client-driven forecast           </td><td>West Jeremyside  </td><td>1</td><td>Tuvalu                                             </td><td>2016-02-08 10:46:14</td><td>1</td></tr>\n",
              "\t<tr><td>51.95</td><td>52</td><td>58295.82</td><td>129.23</td><td>Monitored systematic hierarchy               </td><td>South Cathyfurt  </td><td>0</td><td>Greece                                             </td><td>2016-07-19 08:32:10</td><td>1</td></tr>\n",
              "\t<tr><td>70.20</td><td>34</td><td>32708.94</td><td>119.20</td><td>Open-architected impactful productivity      </td><td>Palmerside       </td><td>0</td><td>British Virgin Islands                             </td><td>2016-04-14 05:08:35</td><td>1</td></tr>\n",
              "\t<tr><td>76.02</td><td>22</td><td>46179.97</td><td>209.82</td><td>Business-focused value-added definition      </td><td>West Guybury     </td><td>0</td><td>Bouvet Island (Bouvetoya)                          </td><td>2016-01-27 12:38:16</td><td>0</td></tr>\n",
              "\t<tr><td>⋮</td><td>⋮</td><td>⋮</td><td>⋮</td><td>⋮</td><td>⋮</td><td>⋮</td><td>⋮</td><td>⋮</td><td>⋮</td></tr>\n",
              "\t<tr><td>40.18</td><td>29</td><td>50760.23</td><td>151.96</td><td>Enhanced intangible portal             </td><td>Lake Tracy      </td><td>0</td><td>Hong Kong                </td><td>2016-06-25 04:21:33</td><td>1</td></tr>\n",
              "\t<tr><td>45.17</td><td>48</td><td>34418.09</td><td>132.07</td><td>Down-sized background groupware        </td><td>Taylormouth     </td><td>1</td><td>Palau                    </td><td>2016-01-27 14:41:10</td><td>1</td></tr>\n",
              "\t<tr><td>50.48</td><td>50</td><td>20592.99</td><td>162.43</td><td>Switchable real-time product           </td><td>Dianaville      </td><td>0</td><td>Malawi                   </td><td>2016-05-16 18:51:59</td><td>1</td></tr>\n",
              "\t<tr><td>80.87</td><td>28</td><td>63528.80</td><td>203.30</td><td>Ameliorated local workforce            </td><td>Collinsburgh    </td><td>0</td><td>Uruguay                  </td><td>2016-02-27 20:20:25</td><td>0</td></tr>\n",
              "\t<tr><td>41.88</td><td>40</td><td>44217.68</td><td>126.11</td><td>Streamlined exuding adapter            </td><td>Port Rachel     </td><td>1</td><td>Cyprus                   </td><td>2016-02-28 23:54:44</td><td>1</td></tr>\n",
              "\t<tr><td>39.87</td><td>48</td><td>47929.83</td><td>139.34</td><td>Business-focused user-facing benchmark </td><td>South Rebecca   </td><td>1</td><td>Mexico                   </td><td>2016-06-13 06:11:33</td><td>1</td></tr>\n",
              "\t<tr><td>61.84</td><td>45</td><td>46024.29</td><td>105.63</td><td>Reactive bi-directional standardization</td><td>Port Joshuafort </td><td>1</td><td>Niger                    </td><td>2016-05-05 11:07:13</td><td>1</td></tr>\n",
              "\t<tr><td>54.97</td><td>31</td><td>51900.03</td><td>116.38</td><td>Virtual bifurcated portal              </td><td>Robinsontown    </td><td>1</td><td>France                   </td><td>2016-07-07 12:17:33</td><td>1</td></tr>\n",
              "\t<tr><td>71.40</td><td>30</td><td>72188.90</td><td>166.31</td><td>Integrated 3rdgeneration monitoring    </td><td>Beckton         </td><td>0</td><td>Japan                    </td><td>2016-05-24 17:07:08</td><td>0</td></tr>\n",
              "\t<tr><td>70.29</td><td>31</td><td>56974.51</td><td>254.65</td><td>Balanced responsive open system        </td><td>New Frankshire  </td><td>1</td><td>Norfolk Island           </td><td>2016-03-30 14:36:55</td><td>0</td></tr>\n",
              "\t<tr><td>67.26</td><td>57</td><td>25682.65</td><td>168.41</td><td>Focused incremental Graphic Interface  </td><td>North Derekville</td><td>1</td><td>Bulgaria                 </td><td>2016-05-27 05:54:03</td><td>1</td></tr>\n",
              "\t<tr><td>76.58</td><td>46</td><td>41884.64</td><td>258.26</td><td>Secured 24hour policy                  </td><td>West Sydney     </td><td>0</td><td>Uzbekistan               </td><td>2016-01-03 16:30:51</td><td>0</td></tr>\n",
              "\t<tr><td>54.37</td><td>38</td><td>72196.29</td><td>140.77</td><td>Up-sized asymmetric firmware           </td><td>Lake Matthew    </td><td>0</td><td>Mexico                   </td><td>2016-06-25 18:17:53</td><td>1</td></tr>\n",
              "\t<tr><td>82.79</td><td>32</td><td>54429.17</td><td>234.81</td><td>Distributed fault-tolerant service-desk</td><td>Lake Zacharyfurt</td><td>1</td><td>Brunei Darussalam        </td><td>2016-02-24 10:36:43</td><td>0</td></tr>\n",
              "\t<tr><td>66.47</td><td>31</td><td>58037.66</td><td>256.39</td><td>Vision-oriented human-resource synergy </td><td>Lindsaymouth    </td><td>1</td><td>France                   </td><td>2016-03-03 03:13:48</td><td>0</td></tr>\n",
              "\t<tr><td>72.88</td><td>44</td><td>64011.26</td><td>125.12</td><td>Customer-focused explicit challenge    </td><td>Sarahland       </td><td>0</td><td>Yemen                    </td><td>2016-04-21 19:56:24</td><td>1</td></tr>\n",
              "\t<tr><td>76.44</td><td>28</td><td>59967.19</td><td>232.68</td><td>Synchronized human-resource moderator  </td><td>Port Julie      </td><td>1</td><td>Northern Mariana Islands </td><td>2016-04-06 17:26:37</td><td>0</td></tr>\n",
              "\t<tr><td>63.37</td><td>43</td><td>43155.19</td><td>105.04</td><td>Open-architected full-range projection </td><td>Michaelshire    </td><td>1</td><td>Poland                   </td><td>2016-03-23 12:53:23</td><td>1</td></tr>\n",
              "\t<tr><td>89.71</td><td>48</td><td>51501.38</td><td>204.40</td><td>Versatile local forecast               </td><td>Sarafurt        </td><td>1</td><td>Bahrain                  </td><td>2016-02-17 07:00:38</td><td>0</td></tr>\n",
              "\t<tr><td>70.96</td><td>31</td><td>55187.85</td><td>256.40</td><td>Ameliorated user-facing help-desk      </td><td>South Denise    </td><td>0</td><td>Saint Pierre and Miquelon</td><td>2016-06-26 07:01:47</td><td>0</td></tr>\n",
              "\t<tr><td>35.79</td><td>44</td><td>33813.08</td><td>165.62</td><td>Enterprise-wide tangible model         </td><td>North Katie     </td><td>1</td><td>Tonga                    </td><td>2016-04-20 13:36:42</td><td>1</td></tr>\n",
              "\t<tr><td>38.96</td><td>38</td><td>36497.22</td><td>140.67</td><td>Versatile mission-critical application </td><td>Mauricefurt     </td><td>1</td><td>Comoros                  </td><td>2016-07-21 16:02:40</td><td>1</td></tr>\n",
              "\t<tr><td>69.17</td><td>40</td><td>66193.81</td><td>123.62</td><td>Extended leadingedge solution          </td><td>New Patrick     </td><td>0</td><td>Montenegro               </td><td>2016-03-06 11:36:06</td><td>1</td></tr>\n",
              "\t<tr><td>64.20</td><td>27</td><td>66200.96</td><td>227.63</td><td>Phased zero tolerance extranet         </td><td>Edwardsmouth    </td><td>1</td><td>Isle of Man              </td><td>2016-02-11 23:45:01</td><td>0</td></tr>\n",
              "\t<tr><td>43.70</td><td>28</td><td>63126.96</td><td>173.01</td><td>Front-line bifurcated ability          </td><td>Nicholasland    </td><td>0</td><td>Mayotte                  </td><td>2016-04-04 03:57:48</td><td>1</td></tr>\n",
              "\t<tr><td>72.97</td><td>30</td><td>71384.57</td><td>208.58</td><td>Fundamental modular algorithm          </td><td>Duffystad       </td><td>1</td><td>Lebanon                  </td><td>2016-02-11 21:49:00</td><td>1</td></tr>\n",
              "\t<tr><td>51.30</td><td>45</td><td>67782.17</td><td>134.42</td><td>Grass-roots cohesive monitoring        </td><td>New Darlene     </td><td>1</td><td>Bosnia and Herzegovina   </td><td>2016-04-22 02:07:01</td><td>1</td></tr>\n",
              "\t<tr><td>51.63</td><td>51</td><td>42415.72</td><td>120.37</td><td>Expanded intangible solution           </td><td>South Jessica   </td><td>1</td><td>Mongolia                 </td><td>2016-02-01 17:24:57</td><td>1</td></tr>\n",
              "\t<tr><td>55.55</td><td>19</td><td>41920.79</td><td>187.95</td><td>Proactive bandwidth-monitored policy   </td><td>West Steven     </td><td>0</td><td>Guatemala                </td><td>2016-03-24 02:35:54</td><td>0</td></tr>\n",
              "\t<tr><td>45.01</td><td>26</td><td>29875.80</td><td>178.35</td><td>Virtual 5thgeneration emulation        </td><td>Ronniemouth     </td><td>0</td><td>Brazil                   </td><td>2016-06-03 21:43:21</td><td>1</td></tr>\n",
              "</tbody>\n",
              "</table>\n"
            ]
          },
          "metadata": {
            "tags": []
          }
        }
      ]
    },
    {
      "cell_type": "markdown",
      "metadata": {
        "id": "0mi1Z4pkmkUF"
      },
      "source": [
        "## Checking the data"
      ]
    },
    {
      "cell_type": "code",
      "metadata": {
        "id": "kdAs1b6zivq3",
        "outputId": "2d3ef6b3-21af-40a9-f795-b4cf252dd933",
        "colab": {
          "base_uri": "https://localhost:8080/",
          "height": 313
        }
      },
      "source": [
        "# Previewing the head of the dataset\n",
        "head(advertising)"
      ],
      "execution_count": 4,
      "outputs": [
        {
          "output_type": "display_data",
          "data": {
            "text/plain": [
              "  Daily Time Spent on Site Age Area Income Daily Internet Usage\n",
              "1 68.95                    35  61833.90    256.09              \n",
              "2 80.23                    31  68441.85    193.77              \n",
              "3 69.47                    26  59785.94    236.50              \n",
              "4 74.15                    29  54806.18    245.89              \n",
              "5 68.37                    35  73889.99    225.58              \n",
              "6 59.99                    23  59761.56    226.74              \n",
              "  Ad Topic Line                         City           Male Country   \n",
              "1 Cloned 5thgeneration orchestration    Wrightburgh    0    Tunisia   \n",
              "2 Monitored national standardization    West Jodi      1    Nauru     \n",
              "3 Organic bottom-line service-desk      Davidton       0    San Marino\n",
              "4 Triple-buffered reciprocal time-frame West Terrifurt 1    Italy     \n",
              "5 Robust logistical utilization         South Manuel   0    Iceland   \n",
              "6 Sharable client-driven software       Jamieberg      1    Norway    \n",
              "  Timestamp           Clicked on Ad\n",
              "1 2016-03-27 00:53:11 0            \n",
              "2 2016-04-04 01:39:02 0            \n",
              "3 2016-03-13 20:35:42 0            \n",
              "4 2016-01-10 02:31:19 0            \n",
              "5 2016-06-03 03:36:18 0            \n",
              "6 2016-05-19 14:30:17 0            "
            ],
            "text/latex": "A tibble: 6 × 10\n\\begin{tabular}{llllllllll}\n Daily Time Spent on Site & Age & Area Income & Daily Internet Usage & Ad Topic Line & City & Male & Country & Timestamp & Clicked on Ad\\\\\n <dbl> & <dbl> & <dbl> & <dbl> & <chr> & <chr> & <dbl> & <chr> & <dttm> & <dbl>\\\\\n\\hline\n\t 68.95 & 35 & 61833.90 & 256.09 & Cloned 5thgeneration orchestration    & Wrightburgh    & 0 & Tunisia    & 2016-03-27 00:53:11 & 0\\\\\n\t 80.23 & 31 & 68441.85 & 193.77 & Monitored national standardization    & West Jodi      & 1 & Nauru      & 2016-04-04 01:39:02 & 0\\\\\n\t 69.47 & 26 & 59785.94 & 236.50 & Organic bottom-line service-desk      & Davidton       & 0 & San Marino & 2016-03-13 20:35:42 & 0\\\\\n\t 74.15 & 29 & 54806.18 & 245.89 & Triple-buffered reciprocal time-frame & West Terrifurt & 1 & Italy      & 2016-01-10 02:31:19 & 0\\\\\n\t 68.37 & 35 & 73889.99 & 225.58 & Robust logistical utilization         & South Manuel   & 0 & Iceland    & 2016-06-03 03:36:18 & 0\\\\\n\t 59.99 & 23 & 59761.56 & 226.74 & Sharable client-driven software       & Jamieberg      & 1 & Norway     & 2016-05-19 14:30:17 & 0\\\\\n\\end{tabular}\n",
            "text/markdown": "\nA tibble: 6 × 10\n\n| Daily Time Spent on Site &lt;dbl&gt; | Age &lt;dbl&gt; | Area Income &lt;dbl&gt; | Daily Internet Usage &lt;dbl&gt; | Ad Topic Line &lt;chr&gt; | City &lt;chr&gt; | Male &lt;dbl&gt; | Country &lt;chr&gt; | Timestamp &lt;dttm&gt; | Clicked on Ad &lt;dbl&gt; |\n|---|---|---|---|---|---|---|---|---|---|\n| 68.95 | 35 | 61833.90 | 256.09 | Cloned 5thgeneration orchestration    | Wrightburgh    | 0 | Tunisia    | 2016-03-27 00:53:11 | 0 |\n| 80.23 | 31 | 68441.85 | 193.77 | Monitored national standardization    | West Jodi      | 1 | Nauru      | 2016-04-04 01:39:02 | 0 |\n| 69.47 | 26 | 59785.94 | 236.50 | Organic bottom-line service-desk      | Davidton       | 0 | San Marino | 2016-03-13 20:35:42 | 0 |\n| 74.15 | 29 | 54806.18 | 245.89 | Triple-buffered reciprocal time-frame | West Terrifurt | 1 | Italy      | 2016-01-10 02:31:19 | 0 |\n| 68.37 | 35 | 73889.99 | 225.58 | Robust logistical utilization         | South Manuel   | 0 | Iceland    | 2016-06-03 03:36:18 | 0 |\n| 59.99 | 23 | 59761.56 | 226.74 | Sharable client-driven software       | Jamieberg      | 1 | Norway     | 2016-05-19 14:30:17 | 0 |\n\n",
            "text/html": [
              "<table>\n",
              "<caption>A tibble: 6 × 10</caption>\n",
              "<thead>\n",
              "\t<tr><th scope=col>Daily Time Spent on Site</th><th scope=col>Age</th><th scope=col>Area Income</th><th scope=col>Daily Internet Usage</th><th scope=col>Ad Topic Line</th><th scope=col>City</th><th scope=col>Male</th><th scope=col>Country</th><th scope=col>Timestamp</th><th scope=col>Clicked on Ad</th></tr>\n",
              "\t<tr><th scope=col>&lt;dbl&gt;</th><th scope=col>&lt;dbl&gt;</th><th scope=col>&lt;dbl&gt;</th><th scope=col>&lt;dbl&gt;</th><th scope=col>&lt;chr&gt;</th><th scope=col>&lt;chr&gt;</th><th scope=col>&lt;dbl&gt;</th><th scope=col>&lt;chr&gt;</th><th scope=col>&lt;dttm&gt;</th><th scope=col>&lt;dbl&gt;</th></tr>\n",
              "</thead>\n",
              "<tbody>\n",
              "\t<tr><td>68.95</td><td>35</td><td>61833.90</td><td>256.09</td><td>Cloned 5thgeneration orchestration   </td><td>Wrightburgh   </td><td>0</td><td>Tunisia   </td><td>2016-03-27 00:53:11</td><td>0</td></tr>\n",
              "\t<tr><td>80.23</td><td>31</td><td>68441.85</td><td>193.77</td><td>Monitored national standardization   </td><td>West Jodi     </td><td>1</td><td>Nauru     </td><td>2016-04-04 01:39:02</td><td>0</td></tr>\n",
              "\t<tr><td>69.47</td><td>26</td><td>59785.94</td><td>236.50</td><td>Organic bottom-line service-desk     </td><td>Davidton      </td><td>0</td><td>San Marino</td><td>2016-03-13 20:35:42</td><td>0</td></tr>\n",
              "\t<tr><td>74.15</td><td>29</td><td>54806.18</td><td>245.89</td><td>Triple-buffered reciprocal time-frame</td><td>West Terrifurt</td><td>1</td><td>Italy     </td><td>2016-01-10 02:31:19</td><td>0</td></tr>\n",
              "\t<tr><td>68.37</td><td>35</td><td>73889.99</td><td>225.58</td><td>Robust logistical utilization        </td><td>South Manuel  </td><td>0</td><td>Iceland   </td><td>2016-06-03 03:36:18</td><td>0</td></tr>\n",
              "\t<tr><td>59.99</td><td>23</td><td>59761.56</td><td>226.74</td><td>Sharable client-driven software      </td><td>Jamieberg     </td><td>1</td><td>Norway    </td><td>2016-05-19 14:30:17</td><td>0</td></tr>\n",
              "</tbody>\n",
              "</table>\n"
            ]
          },
          "metadata": {
            "tags": []
          }
        }
      ]
    },
    {
      "cell_type": "code",
      "metadata": {
        "id": "6TiPsSUhi5ou",
        "outputId": "ab4f7af3-1da0-479c-c183-bf20e3e0041a",
        "colab": {
          "base_uri": "https://localhost:8080/",
          "height": 313
        }
      },
      "source": [
        "# Checking the bottom of the tail\n",
        "tail(advertising)"
      ],
      "execution_count": 5,
      "outputs": [
        {
          "output_type": "display_data",
          "data": {
            "text/plain": [
              "  Daily Time Spent on Site Age Area Income Daily Internet Usage\n",
              "1 43.70                    28  63126.96    173.01              \n",
              "2 72.97                    30  71384.57    208.58              \n",
              "3 51.30                    45  67782.17    134.42              \n",
              "4 51.63                    51  42415.72    120.37              \n",
              "5 55.55                    19  41920.79    187.95              \n",
              "6 45.01                    26  29875.80    178.35              \n",
              "  Ad Topic Line                        City          Male\n",
              "1 Front-line bifurcated ability        Nicholasland  0   \n",
              "2 Fundamental modular algorithm        Duffystad     1   \n",
              "3 Grass-roots cohesive monitoring      New Darlene   1   \n",
              "4 Expanded intangible solution         South Jessica 1   \n",
              "5 Proactive bandwidth-monitored policy West Steven   0   \n",
              "6 Virtual 5thgeneration emulation      Ronniemouth   0   \n",
              "  Country                Timestamp           Clicked on Ad\n",
              "1 Mayotte                2016-04-04 03:57:48 1            \n",
              "2 Lebanon                2016-02-11 21:49:00 1            \n",
              "3 Bosnia and Herzegovina 2016-04-22 02:07:01 1            \n",
              "4 Mongolia               2016-02-01 17:24:57 1            \n",
              "5 Guatemala              2016-03-24 02:35:54 0            \n",
              "6 Brazil                 2016-06-03 21:43:21 1            "
            ],
            "text/latex": "A tibble: 6 × 10\n\\begin{tabular}{llllllllll}\n Daily Time Spent on Site & Age & Area Income & Daily Internet Usage & Ad Topic Line & City & Male & Country & Timestamp & Clicked on Ad\\\\\n <dbl> & <dbl> & <dbl> & <dbl> & <chr> & <chr> & <dbl> & <chr> & <dttm> & <dbl>\\\\\n\\hline\n\t 43.70 & 28 & 63126.96 & 173.01 & Front-line bifurcated ability        & Nicholasland  & 0 & Mayotte                & 2016-04-04 03:57:48 & 1\\\\\n\t 72.97 & 30 & 71384.57 & 208.58 & Fundamental modular algorithm        & Duffystad     & 1 & Lebanon                & 2016-02-11 21:49:00 & 1\\\\\n\t 51.30 & 45 & 67782.17 & 134.42 & Grass-roots cohesive monitoring      & New Darlene   & 1 & Bosnia and Herzegovina & 2016-04-22 02:07:01 & 1\\\\\n\t 51.63 & 51 & 42415.72 & 120.37 & Expanded intangible solution         & South Jessica & 1 & Mongolia               & 2016-02-01 17:24:57 & 1\\\\\n\t 55.55 & 19 & 41920.79 & 187.95 & Proactive bandwidth-monitored policy & West Steven   & 0 & Guatemala              & 2016-03-24 02:35:54 & 0\\\\\n\t 45.01 & 26 & 29875.80 & 178.35 & Virtual 5thgeneration emulation      & Ronniemouth   & 0 & Brazil                 & 2016-06-03 21:43:21 & 1\\\\\n\\end{tabular}\n",
            "text/markdown": "\nA tibble: 6 × 10\n\n| Daily Time Spent on Site &lt;dbl&gt; | Age &lt;dbl&gt; | Area Income &lt;dbl&gt; | Daily Internet Usage &lt;dbl&gt; | Ad Topic Line &lt;chr&gt; | City &lt;chr&gt; | Male &lt;dbl&gt; | Country &lt;chr&gt; | Timestamp &lt;dttm&gt; | Clicked on Ad &lt;dbl&gt; |\n|---|---|---|---|---|---|---|---|---|---|\n| 43.70 | 28 | 63126.96 | 173.01 | Front-line bifurcated ability        | Nicholasland  | 0 | Mayotte                | 2016-04-04 03:57:48 | 1 |\n| 72.97 | 30 | 71384.57 | 208.58 | Fundamental modular algorithm        | Duffystad     | 1 | Lebanon                | 2016-02-11 21:49:00 | 1 |\n| 51.30 | 45 | 67782.17 | 134.42 | Grass-roots cohesive monitoring      | New Darlene   | 1 | Bosnia and Herzegovina | 2016-04-22 02:07:01 | 1 |\n| 51.63 | 51 | 42415.72 | 120.37 | Expanded intangible solution         | South Jessica | 1 | Mongolia               | 2016-02-01 17:24:57 | 1 |\n| 55.55 | 19 | 41920.79 | 187.95 | Proactive bandwidth-monitored policy | West Steven   | 0 | Guatemala              | 2016-03-24 02:35:54 | 0 |\n| 45.01 | 26 | 29875.80 | 178.35 | Virtual 5thgeneration emulation      | Ronniemouth   | 0 | Brazil                 | 2016-06-03 21:43:21 | 1 |\n\n",
            "text/html": [
              "<table>\n",
              "<caption>A tibble: 6 × 10</caption>\n",
              "<thead>\n",
              "\t<tr><th scope=col>Daily Time Spent on Site</th><th scope=col>Age</th><th scope=col>Area Income</th><th scope=col>Daily Internet Usage</th><th scope=col>Ad Topic Line</th><th scope=col>City</th><th scope=col>Male</th><th scope=col>Country</th><th scope=col>Timestamp</th><th scope=col>Clicked on Ad</th></tr>\n",
              "\t<tr><th scope=col>&lt;dbl&gt;</th><th scope=col>&lt;dbl&gt;</th><th scope=col>&lt;dbl&gt;</th><th scope=col>&lt;dbl&gt;</th><th scope=col>&lt;chr&gt;</th><th scope=col>&lt;chr&gt;</th><th scope=col>&lt;dbl&gt;</th><th scope=col>&lt;chr&gt;</th><th scope=col>&lt;dttm&gt;</th><th scope=col>&lt;dbl&gt;</th></tr>\n",
              "</thead>\n",
              "<tbody>\n",
              "\t<tr><td>43.70</td><td>28</td><td>63126.96</td><td>173.01</td><td>Front-line bifurcated ability       </td><td>Nicholasland </td><td>0</td><td>Mayotte               </td><td>2016-04-04 03:57:48</td><td>1</td></tr>\n",
              "\t<tr><td>72.97</td><td>30</td><td>71384.57</td><td>208.58</td><td>Fundamental modular algorithm       </td><td>Duffystad    </td><td>1</td><td>Lebanon               </td><td>2016-02-11 21:49:00</td><td>1</td></tr>\n",
              "\t<tr><td>51.30</td><td>45</td><td>67782.17</td><td>134.42</td><td>Grass-roots cohesive monitoring     </td><td>New Darlene  </td><td>1</td><td>Bosnia and Herzegovina</td><td>2016-04-22 02:07:01</td><td>1</td></tr>\n",
              "\t<tr><td>51.63</td><td>51</td><td>42415.72</td><td>120.37</td><td>Expanded intangible solution        </td><td>South Jessica</td><td>1</td><td>Mongolia              </td><td>2016-02-01 17:24:57</td><td>1</td></tr>\n",
              "\t<tr><td>55.55</td><td>19</td><td>41920.79</td><td>187.95</td><td>Proactive bandwidth-monitored policy</td><td>West Steven  </td><td>0</td><td>Guatemala             </td><td>2016-03-24 02:35:54</td><td>0</td></tr>\n",
              "\t<tr><td>45.01</td><td>26</td><td>29875.80</td><td>178.35</td><td>Virtual 5thgeneration emulation     </td><td>Ronniemouth  </td><td>0</td><td>Brazil                </td><td>2016-06-03 21:43:21</td><td>1</td></tr>\n",
              "</tbody>\n",
              "</table>\n"
            ]
          },
          "metadata": {
            "tags": []
          }
        }
      ]
    },
    {
      "cell_type": "code",
      "metadata": {
        "id": "XqWUddXroAPq",
        "outputId": "ae89816a-b3d2-4d91-a645-a202940f49b9",
        "colab": {
          "base_uri": "https://localhost:8080/",
          "height": 34
        }
      },
      "source": [
        "# Checking for the number of rows and columns\n",
        "dim(advertising)"
      ],
      "execution_count": 6,
      "outputs": [
        {
          "output_type": "display_data",
          "data": {
            "text/plain": [
              "[1] 1000   10"
            ],
            "text/latex": "\\begin{enumerate*}\n\\item 1000\n\\item 10\n\\end{enumerate*}\n",
            "text/markdown": "1. 1000\n2. 10\n\n\n",
            "text/html": [
              "<style>\n",
              ".list-inline {list-style: none; margin:0; padding: 0}\n",
              ".list-inline>li {display: inline-block}\n",
              ".list-inline>li:not(:last-child)::after {content: \"\\00b7\"; padding: 0 .5ex}\n",
              "</style>\n",
              "<ol class=list-inline><li>1000</li><li>10</li></ol>\n"
            ]
          },
          "metadata": {
            "tags": []
          }
        }
      ]
    },
    {
      "cell_type": "markdown",
      "metadata": {
        "id": "6rLlUaQ3oIx-"
      },
      "source": [
        "\n",
        "\n",
        "> There are 1000 rows and 10 columns\n",
        "\n"
      ]
    },
    {
      "cell_type": "code",
      "metadata": {
        "id": "WENh-sQ518Xl",
        "outputId": "09358fe4-39fc-4a52-923d-e647f2ed516c",
        "colab": {
          "base_uri": "https://localhost:8080/",
          "height": 34
        }
      },
      "source": [
        "class(advertising)"
      ],
      "execution_count": 7,
      "outputs": [
        {
          "output_type": "display_data",
          "data": {
            "text/plain": [
              "[1] \"spec_tbl_df\" \"tbl_df\"      \"tbl\"         \"data.frame\" "
            ],
            "text/latex": "\\begin{enumerate*}\n\\item 'spec\\_tbl\\_df'\n\\item 'tbl\\_df'\n\\item 'tbl'\n\\item 'data.frame'\n\\end{enumerate*}\n",
            "text/markdown": "1. 'spec_tbl_df'\n2. 'tbl_df'\n3. 'tbl'\n4. 'data.frame'\n\n\n",
            "text/html": [
              "<style>\n",
              ".list-inline {list-style: none; margin:0; padding: 0}\n",
              ".list-inline>li {display: inline-block}\n",
              ".list-inline>li:not(:last-child)::after {content: \"\\00b7\"; padding: 0 .5ex}\n",
              "</style>\n",
              "<ol class=list-inline><li>'spec_tbl_df'</li><li>'tbl_df'</li><li>'tbl'</li><li>'data.frame'</li></ol>\n"
            ]
          },
          "metadata": {
            "tags": []
          }
        }
      ]
    },
    {
      "cell_type": "markdown",
      "metadata": {
        "id": "sTatAxjHj8PO"
      },
      "source": [
        "# Data Cleaning"
      ]
    },
    {
      "cell_type": "code",
      "metadata": {
        "id": "Vo8dWmoZlpe-",
        "outputId": "35511aeb-967e-4fc4-ee11-190d53b60c40",
        "colab": {
          "base_uri": "https://localhost:8080/"
        }
      },
      "source": [
        "# Checking the structure of the dataset\n",
        "\n",
        "str(advertising)"
      ],
      "execution_count": 8,
      "outputs": [
        {
          "output_type": "stream",
          "text": [
            "tibble [1,000 × 10] (S3: spec_tbl_df/tbl_df/tbl/data.frame)\n",
            " $ Daily Time Spent on Site: num [1:1000] 69 80.2 69.5 74.2 68.4 ...\n",
            " $ Age                     : num [1:1000] 35 31 26 29 35 23 33 48 30 20 ...\n",
            " $ Area Income             : num [1:1000] 61834 68442 59786 54806 73890 ...\n",
            " $ Daily Internet Usage    : num [1:1000] 256 194 236 246 226 ...\n",
            " $ Ad Topic Line           : chr [1:1000] \"Cloned 5thgeneration orchestration\" \"Monitored national standardization\" \"Organic bottom-line service-desk\" \"Triple-buffered reciprocal time-frame\" ...\n",
            " $ City                    : chr [1:1000] \"Wrightburgh\" \"West Jodi\" \"Davidton\" \"West Terrifurt\" ...\n",
            " $ Male                    : num [1:1000] 0 1 0 1 0 1 0 1 1 1 ...\n",
            " $ Country                 : chr [1:1000] \"Tunisia\" \"Nauru\" \"San Marino\" \"Italy\" ...\n",
            " $ Timestamp               : POSIXct[1:1000], format: \"2016-03-27 00:53:11\" \"2016-04-04 01:39:02\" ...\n",
            " $ Clicked on Ad           : num [1:1000] 0 0 0 0 0 0 0 1 0 0 ...\n",
            " - attr(*, \"spec\")=\n",
            "  .. cols(\n",
            "  ..   `Daily Time Spent on Site` = \u001b[32mcol_double()\u001b[39m,\n",
            "  ..   Age = \u001b[32mcol_double()\u001b[39m,\n",
            "  ..   `Area Income` = \u001b[32mcol_double()\u001b[39m,\n",
            "  ..   `Daily Internet Usage` = \u001b[32mcol_double()\u001b[39m,\n",
            "  ..   `Ad Topic Line` = \u001b[31mcol_character()\u001b[39m,\n",
            "  ..   City = \u001b[31mcol_character()\u001b[39m,\n",
            "  ..   Male = \u001b[32mcol_double()\u001b[39m,\n",
            "  ..   Country = \u001b[31mcol_character()\u001b[39m,\n",
            "  ..   Timestamp = \u001b[34mcol_datetime(format = \"\")\u001b[39m,\n",
            "  ..   `Clicked on Ad` = \u001b[32mcol_double()\u001b[39m\n",
            "  .. )\n"
          ],
          "name": "stdout"
        }
      ]
    },
    {
      "cell_type": "code",
      "metadata": {
        "id": "8yMPMfailmRP",
        "outputId": "7654a546-cd64-4a2b-c935-e2b7e5b6d073",
        "colab": {
          "base_uri": "https://localhost:8080/",
          "height": 50
        }
      },
      "source": [
        "# # Identifying total missing values in each column by using the function colSums()\n",
        "\n",
        "colSums(is.na(advertising))"
      ],
      "execution_count": 9,
      "outputs": [
        {
          "output_type": "display_data",
          "data": {
            "text/plain": [
              "Daily Time Spent on Site                      Age              Area Income \n",
              "                       0                        0                        0 \n",
              "    Daily Internet Usage            Ad Topic Line                     City \n",
              "                       0                        0                        0 \n",
              "                    Male                  Country                Timestamp \n",
              "                       0                        0                        0 \n",
              "           Clicked on Ad \n",
              "                       0 "
            ],
            "text/latex": "\\begin{description*}\n\\item[Daily Time Spent on Site] 0\n\\item[Age] 0\n\\item[Area Income] 0\n\\item[Daily Internet Usage] 0\n\\item[Ad Topic Line] 0\n\\item[City] 0\n\\item[Male] 0\n\\item[Country] 0\n\\item[Timestamp] 0\n\\item[Clicked on Ad] 0\n\\end{description*}\n",
            "text/markdown": "Daily Time Spent on Site\n:   0Age\n:   0Area Income\n:   0Daily Internet Usage\n:   0Ad Topic Line\n:   0City\n:   0Male\n:   0Country\n:   0Timestamp\n:   0Clicked on Ad\n:   0\n\n",
            "text/html": [
              "<style>\n",
              ".dl-inline {width: auto; margin:0; padding: 0}\n",
              ".dl-inline>dt, .dl-inline>dd {float: none; width: auto; display: inline-block}\n",
              ".dl-inline>dt::after {content: \":\\0020\"; padding-right: .5ex}\n",
              ".dl-inline>dt:not(:first-of-type) {padding-left: .5ex}\n",
              "</style><dl class=dl-inline><dt>Daily Time Spent on Site</dt><dd>0</dd><dt>Age</dt><dd>0</dd><dt>Area Income</dt><dd>0</dd><dt>Daily Internet Usage</dt><dd>0</dd><dt>Ad Topic Line</dt><dd>0</dd><dt>City</dt><dd>0</dd><dt>Male</dt><dd>0</dd><dt>Country</dt><dd>0</dd><dt>Timestamp</dt><dd>0</dd><dt>Clicked on Ad</dt><dd>0</dd></dl>\n"
            ]
          },
          "metadata": {
            "tags": []
          }
        }
      ]
    },
    {
      "cell_type": "markdown",
      "metadata": {
        "id": "tsK9ryFal8a-"
      },
      "source": [
        "\n",
        "\n",
        "> There are no missing values in our dataset\n",
        "\n"
      ]
    },
    {
      "cell_type": "code",
      "metadata": {
        "id": "T7RLSpH2cZl4",
        "outputId": "f026c948-7a6b-4ed0-e720-623275db8d89",
        "colab": {
          "base_uri": "https://localhost:8080/",
          "height": 50
        }
      },
      "source": [
        "# Identify numeric columns\n",
        "num_cols <- unlist(lapply(advertising, is.numeric))\n",
        "num_cols"
      ],
      "execution_count": 10,
      "outputs": [
        {
          "output_type": "display_data",
          "data": {
            "text/plain": [
              "Daily Time Spent on Site                      Age              Area Income \n",
              "                    TRUE                     TRUE                     TRUE \n",
              "    Daily Internet Usage            Ad Topic Line                     City \n",
              "                    TRUE                    FALSE                    FALSE \n",
              "                    Male                  Country                Timestamp \n",
              "                    TRUE                    FALSE                    FALSE \n",
              "           Clicked on Ad \n",
              "                    TRUE "
            ],
            "text/latex": "\\begin{description*}\n\\item[Daily Time Spent on Site] TRUE\n\\item[Age] TRUE\n\\item[Area Income] TRUE\n\\item[Daily Internet Usage] TRUE\n\\item[Ad Topic Line] FALSE\n\\item[City] FALSE\n\\item[Male] TRUE\n\\item[Country] FALSE\n\\item[Timestamp] FALSE\n\\item[Clicked on Ad] TRUE\n\\end{description*}\n",
            "text/markdown": "Daily Time Spent on Site\n:   TRUEAge\n:   TRUEArea Income\n:   TRUEDaily Internet Usage\n:   TRUEAd Topic Line\n:   FALSECity\n:   FALSEMale\n:   TRUECountry\n:   FALSETimestamp\n:   FALSEClicked on Ad\n:   TRUE\n\n",
            "text/html": [
              "<style>\n",
              ".dl-inline {width: auto; margin:0; padding: 0}\n",
              ".dl-inline>dt, .dl-inline>dd {float: none; width: auto; display: inline-block}\n",
              ".dl-inline>dt::after {content: \":\\0020\"; padding-right: .5ex}\n",
              ".dl-inline>dt:not(:first-of-type) {padding-left: .5ex}\n",
              "</style><dl class=dl-inline><dt>Daily Time Spent on Site</dt><dd>TRUE</dd><dt>Age</dt><dd>TRUE</dd><dt>Area Income</dt><dd>TRUE</dd><dt>Daily Internet Usage</dt><dd>TRUE</dd><dt>Ad Topic Line</dt><dd>FALSE</dd><dt>City</dt><dd>FALSE</dd><dt>Male</dt><dd>TRUE</dd><dt>Country</dt><dd>FALSE</dd><dt>Timestamp</dt><dd>FALSE</dd><dt>Clicked on Ad</dt><dd>TRUE</dd></dl>\n"
            ]
          },
          "metadata": {
            "tags": []
          }
        }
      ]
    },
    {
      "cell_type": "code",
      "metadata": {
        "id": "ikflnSOToqUy",
        "outputId": "ac3c4b6a-9081-4cb3-80ab-23ccd45b8274",
        "colab": {
          "base_uri": "https://localhost:8080/",
          "height": 1000
        }
      },
      "source": [
        " # Evaluating if there are any outliers in the numeric class\n",
        "#Subset numeric columns of data\n",
        "data_num <- advertising[ ,num_cols]                        \n",
        "data_num \n",
        "\n",
        "# They are; daily time spent on site, age, area income, daily internet usage, male, click on ad"
      ],
      "execution_count": 11,
      "outputs": [
        {
          "output_type": "display_data",
          "data": {
            "text/plain": [
              "     Daily Time Spent on Site Age Area Income Daily Internet Usage Male\n",
              "1    68.95                    35  61833.90    256.09               0   \n",
              "2    80.23                    31  68441.85    193.77               1   \n",
              "3    69.47                    26  59785.94    236.50               0   \n",
              "4    74.15                    29  54806.18    245.89               1   \n",
              "5    68.37                    35  73889.99    225.58               0   \n",
              "6    59.99                    23  59761.56    226.74               1   \n",
              "7    88.91                    33  53852.85    208.36               0   \n",
              "8    66.00                    48  24593.33    131.76               1   \n",
              "9    74.53                    30  68862.00    221.51               1   \n",
              "10   69.88                    20  55642.32    183.82               1   \n",
              "11   47.64                    49  45632.51    122.02               0   \n",
              "12   83.07                    37  62491.01    230.87               1   \n",
              "13   69.57                    48  51636.92    113.12               1   \n",
              "14   79.52                    24  51739.63    214.23               0   \n",
              "15   42.95                    33  30976.00    143.56               0   \n",
              "16   63.45                    23  52182.23    140.64               1   \n",
              "17   55.39                    37  23936.86    129.41               0   \n",
              "18   82.03                    41  71511.08    187.53               0   \n",
              "19   54.70                    36  31087.54    118.39               1   \n",
              "20   74.58                    40  23821.72    135.51               1   \n",
              "21   77.22                    30  64802.33    224.44               1   \n",
              "22   84.59                    35  60015.57    226.54               1   \n",
              "23   41.49                    52  32635.70    164.83               0   \n",
              "24   87.29                    36  61628.72    209.93               1   \n",
              "25   41.39                    41  68962.32    167.22               0   \n",
              "26   78.74                    28  64828.00    204.79               1   \n",
              "27   48.53                    28  38067.08    134.14               1   \n",
              "28   51.95                    52  58295.82    129.23               0   \n",
              "29   70.20                    34  32708.94    119.20               0   \n",
              "30   76.02                    22  46179.97    209.82               0   \n",
              "⋮    ⋮                        ⋮   ⋮           ⋮                    ⋮   \n",
              "971  40.18                    29  50760.23    151.96               0   \n",
              "972  45.17                    48  34418.09    132.07               1   \n",
              "973  50.48                    50  20592.99    162.43               0   \n",
              "974  80.87                    28  63528.80    203.30               0   \n",
              "975  41.88                    40  44217.68    126.11               1   \n",
              "976  39.87                    48  47929.83    139.34               1   \n",
              "977  61.84                    45  46024.29    105.63               1   \n",
              "978  54.97                    31  51900.03    116.38               1   \n",
              "979  71.40                    30  72188.90    166.31               0   \n",
              "980  70.29                    31  56974.51    254.65               1   \n",
              "981  67.26                    57  25682.65    168.41               1   \n",
              "982  76.58                    46  41884.64    258.26               0   \n",
              "983  54.37                    38  72196.29    140.77               0   \n",
              "984  82.79                    32  54429.17    234.81               1   \n",
              "985  66.47                    31  58037.66    256.39               1   \n",
              "986  72.88                    44  64011.26    125.12               0   \n",
              "987  76.44                    28  59967.19    232.68               1   \n",
              "988  63.37                    43  43155.19    105.04               1   \n",
              "989  89.71                    48  51501.38    204.40               1   \n",
              "990  70.96                    31  55187.85    256.40               0   \n",
              "991  35.79                    44  33813.08    165.62               1   \n",
              "992  38.96                    38  36497.22    140.67               1   \n",
              "993  69.17                    40  66193.81    123.62               0   \n",
              "994  64.20                    27  66200.96    227.63               1   \n",
              "995  43.70                    28  63126.96    173.01               0   \n",
              "996  72.97                    30  71384.57    208.58               1   \n",
              "997  51.30                    45  67782.17    134.42               1   \n",
              "998  51.63                    51  42415.72    120.37               1   \n",
              "999  55.55                    19  41920.79    187.95               0   \n",
              "1000 45.01                    26  29875.80    178.35               0   \n",
              "     Clicked on Ad\n",
              "1    0            \n",
              "2    0            \n",
              "3    0            \n",
              "4    0            \n",
              "5    0            \n",
              "6    0            \n",
              "7    0            \n",
              "8    1            \n",
              "9    0            \n",
              "10   0            \n",
              "11   1            \n",
              "12   0            \n",
              "13   1            \n",
              "14   0            \n",
              "15   1            \n",
              "16   1            \n",
              "17   1            \n",
              "18   0            \n",
              "19   1            \n",
              "20   1            \n",
              "21   0            \n",
              "22   0            \n",
              "23   1            \n",
              "24   0            \n",
              "25   1            \n",
              "26   0            \n",
              "27   1            \n",
              "28   1            \n",
              "29   1            \n",
              "30   0            \n",
              "⋮    ⋮            \n",
              "971  1            \n",
              "972  1            \n",
              "973  1            \n",
              "974  0            \n",
              "975  1            \n",
              "976  1            \n",
              "977  1            \n",
              "978  1            \n",
              "979  0            \n",
              "980  0            \n",
              "981  1            \n",
              "982  0            \n",
              "983  1            \n",
              "984  0            \n",
              "985  0            \n",
              "986  1            \n",
              "987  0            \n",
              "988  1            \n",
              "989  0            \n",
              "990  0            \n",
              "991  1            \n",
              "992  1            \n",
              "993  1            \n",
              "994  0            \n",
              "995  1            \n",
              "996  1            \n",
              "997  1            \n",
              "998  1            \n",
              "999  0            \n",
              "1000 1            "
            ],
            "text/latex": "A tibble: 1000 × 6\n\\begin{tabular}{llllll}\n Daily Time Spent on Site & Age & Area Income & Daily Internet Usage & Male & Clicked on Ad\\\\\n <dbl> & <dbl> & <dbl> & <dbl> & <dbl> & <dbl>\\\\\n\\hline\n\t 68.95 & 35 & 61833.90 & 256.09 & 0 & 0\\\\\n\t 80.23 & 31 & 68441.85 & 193.77 & 1 & 0\\\\\n\t 69.47 & 26 & 59785.94 & 236.50 & 0 & 0\\\\\n\t 74.15 & 29 & 54806.18 & 245.89 & 1 & 0\\\\\n\t 68.37 & 35 & 73889.99 & 225.58 & 0 & 0\\\\\n\t 59.99 & 23 & 59761.56 & 226.74 & 1 & 0\\\\\n\t 88.91 & 33 & 53852.85 & 208.36 & 0 & 0\\\\\n\t 66.00 & 48 & 24593.33 & 131.76 & 1 & 1\\\\\n\t 74.53 & 30 & 68862.00 & 221.51 & 1 & 0\\\\\n\t 69.88 & 20 & 55642.32 & 183.82 & 1 & 0\\\\\n\t 47.64 & 49 & 45632.51 & 122.02 & 0 & 1\\\\\n\t 83.07 & 37 & 62491.01 & 230.87 & 1 & 0\\\\\n\t 69.57 & 48 & 51636.92 & 113.12 & 1 & 1\\\\\n\t 79.52 & 24 & 51739.63 & 214.23 & 0 & 0\\\\\n\t 42.95 & 33 & 30976.00 & 143.56 & 0 & 1\\\\\n\t 63.45 & 23 & 52182.23 & 140.64 & 1 & 1\\\\\n\t 55.39 & 37 & 23936.86 & 129.41 & 0 & 1\\\\\n\t 82.03 & 41 & 71511.08 & 187.53 & 0 & 0\\\\\n\t 54.70 & 36 & 31087.54 & 118.39 & 1 & 1\\\\\n\t 74.58 & 40 & 23821.72 & 135.51 & 1 & 1\\\\\n\t 77.22 & 30 & 64802.33 & 224.44 & 1 & 0\\\\\n\t 84.59 & 35 & 60015.57 & 226.54 & 1 & 0\\\\\n\t 41.49 & 52 & 32635.70 & 164.83 & 0 & 1\\\\\n\t 87.29 & 36 & 61628.72 & 209.93 & 1 & 0\\\\\n\t 41.39 & 41 & 68962.32 & 167.22 & 0 & 1\\\\\n\t 78.74 & 28 & 64828.00 & 204.79 & 1 & 0\\\\\n\t 48.53 & 28 & 38067.08 & 134.14 & 1 & 1\\\\\n\t 51.95 & 52 & 58295.82 & 129.23 & 0 & 1\\\\\n\t 70.20 & 34 & 32708.94 & 119.20 & 0 & 1\\\\\n\t 76.02 & 22 & 46179.97 & 209.82 & 0 & 0\\\\\n\t ⋮ & ⋮ & ⋮ & ⋮ & ⋮ & ⋮\\\\\n\t 40.18 & 29 & 50760.23 & 151.96 & 0 & 1\\\\\n\t 45.17 & 48 & 34418.09 & 132.07 & 1 & 1\\\\\n\t 50.48 & 50 & 20592.99 & 162.43 & 0 & 1\\\\\n\t 80.87 & 28 & 63528.80 & 203.30 & 0 & 0\\\\\n\t 41.88 & 40 & 44217.68 & 126.11 & 1 & 1\\\\\n\t 39.87 & 48 & 47929.83 & 139.34 & 1 & 1\\\\\n\t 61.84 & 45 & 46024.29 & 105.63 & 1 & 1\\\\\n\t 54.97 & 31 & 51900.03 & 116.38 & 1 & 1\\\\\n\t 71.40 & 30 & 72188.90 & 166.31 & 0 & 0\\\\\n\t 70.29 & 31 & 56974.51 & 254.65 & 1 & 0\\\\\n\t 67.26 & 57 & 25682.65 & 168.41 & 1 & 1\\\\\n\t 76.58 & 46 & 41884.64 & 258.26 & 0 & 0\\\\\n\t 54.37 & 38 & 72196.29 & 140.77 & 0 & 1\\\\\n\t 82.79 & 32 & 54429.17 & 234.81 & 1 & 0\\\\\n\t 66.47 & 31 & 58037.66 & 256.39 & 1 & 0\\\\\n\t 72.88 & 44 & 64011.26 & 125.12 & 0 & 1\\\\\n\t 76.44 & 28 & 59967.19 & 232.68 & 1 & 0\\\\\n\t 63.37 & 43 & 43155.19 & 105.04 & 1 & 1\\\\\n\t 89.71 & 48 & 51501.38 & 204.40 & 1 & 0\\\\\n\t 70.96 & 31 & 55187.85 & 256.40 & 0 & 0\\\\\n\t 35.79 & 44 & 33813.08 & 165.62 & 1 & 1\\\\\n\t 38.96 & 38 & 36497.22 & 140.67 & 1 & 1\\\\\n\t 69.17 & 40 & 66193.81 & 123.62 & 0 & 1\\\\\n\t 64.20 & 27 & 66200.96 & 227.63 & 1 & 0\\\\\n\t 43.70 & 28 & 63126.96 & 173.01 & 0 & 1\\\\\n\t 72.97 & 30 & 71384.57 & 208.58 & 1 & 1\\\\\n\t 51.30 & 45 & 67782.17 & 134.42 & 1 & 1\\\\\n\t 51.63 & 51 & 42415.72 & 120.37 & 1 & 1\\\\\n\t 55.55 & 19 & 41920.79 & 187.95 & 0 & 0\\\\\n\t 45.01 & 26 & 29875.80 & 178.35 & 0 & 1\\\\\n\\end{tabular}\n",
            "text/markdown": "\nA tibble: 1000 × 6\n\n| Daily Time Spent on Site &lt;dbl&gt; | Age &lt;dbl&gt; | Area Income &lt;dbl&gt; | Daily Internet Usage &lt;dbl&gt; | Male &lt;dbl&gt; | Clicked on Ad &lt;dbl&gt; |\n|---|---|---|---|---|---|\n| 68.95 | 35 | 61833.90 | 256.09 | 0 | 0 |\n| 80.23 | 31 | 68441.85 | 193.77 | 1 | 0 |\n| 69.47 | 26 | 59785.94 | 236.50 | 0 | 0 |\n| 74.15 | 29 | 54806.18 | 245.89 | 1 | 0 |\n| 68.37 | 35 | 73889.99 | 225.58 | 0 | 0 |\n| 59.99 | 23 | 59761.56 | 226.74 | 1 | 0 |\n| 88.91 | 33 | 53852.85 | 208.36 | 0 | 0 |\n| 66.00 | 48 | 24593.33 | 131.76 | 1 | 1 |\n| 74.53 | 30 | 68862.00 | 221.51 | 1 | 0 |\n| 69.88 | 20 | 55642.32 | 183.82 | 1 | 0 |\n| 47.64 | 49 | 45632.51 | 122.02 | 0 | 1 |\n| 83.07 | 37 | 62491.01 | 230.87 | 1 | 0 |\n| 69.57 | 48 | 51636.92 | 113.12 | 1 | 1 |\n| 79.52 | 24 | 51739.63 | 214.23 | 0 | 0 |\n| 42.95 | 33 | 30976.00 | 143.56 | 0 | 1 |\n| 63.45 | 23 | 52182.23 | 140.64 | 1 | 1 |\n| 55.39 | 37 | 23936.86 | 129.41 | 0 | 1 |\n| 82.03 | 41 | 71511.08 | 187.53 | 0 | 0 |\n| 54.70 | 36 | 31087.54 | 118.39 | 1 | 1 |\n| 74.58 | 40 | 23821.72 | 135.51 | 1 | 1 |\n| 77.22 | 30 | 64802.33 | 224.44 | 1 | 0 |\n| 84.59 | 35 | 60015.57 | 226.54 | 1 | 0 |\n| 41.49 | 52 | 32635.70 | 164.83 | 0 | 1 |\n| 87.29 | 36 | 61628.72 | 209.93 | 1 | 0 |\n| 41.39 | 41 | 68962.32 | 167.22 | 0 | 1 |\n| 78.74 | 28 | 64828.00 | 204.79 | 1 | 0 |\n| 48.53 | 28 | 38067.08 | 134.14 | 1 | 1 |\n| 51.95 | 52 | 58295.82 | 129.23 | 0 | 1 |\n| 70.20 | 34 | 32708.94 | 119.20 | 0 | 1 |\n| 76.02 | 22 | 46179.97 | 209.82 | 0 | 0 |\n| ⋮ | ⋮ | ⋮ | ⋮ | ⋮ | ⋮ |\n| 40.18 | 29 | 50760.23 | 151.96 | 0 | 1 |\n| 45.17 | 48 | 34418.09 | 132.07 | 1 | 1 |\n| 50.48 | 50 | 20592.99 | 162.43 | 0 | 1 |\n| 80.87 | 28 | 63528.80 | 203.30 | 0 | 0 |\n| 41.88 | 40 | 44217.68 | 126.11 | 1 | 1 |\n| 39.87 | 48 | 47929.83 | 139.34 | 1 | 1 |\n| 61.84 | 45 | 46024.29 | 105.63 | 1 | 1 |\n| 54.97 | 31 | 51900.03 | 116.38 | 1 | 1 |\n| 71.40 | 30 | 72188.90 | 166.31 | 0 | 0 |\n| 70.29 | 31 | 56974.51 | 254.65 | 1 | 0 |\n| 67.26 | 57 | 25682.65 | 168.41 | 1 | 1 |\n| 76.58 | 46 | 41884.64 | 258.26 | 0 | 0 |\n| 54.37 | 38 | 72196.29 | 140.77 | 0 | 1 |\n| 82.79 | 32 | 54429.17 | 234.81 | 1 | 0 |\n| 66.47 | 31 | 58037.66 | 256.39 | 1 | 0 |\n| 72.88 | 44 | 64011.26 | 125.12 | 0 | 1 |\n| 76.44 | 28 | 59967.19 | 232.68 | 1 | 0 |\n| 63.37 | 43 | 43155.19 | 105.04 | 1 | 1 |\n| 89.71 | 48 | 51501.38 | 204.40 | 1 | 0 |\n| 70.96 | 31 | 55187.85 | 256.40 | 0 | 0 |\n| 35.79 | 44 | 33813.08 | 165.62 | 1 | 1 |\n| 38.96 | 38 | 36497.22 | 140.67 | 1 | 1 |\n| 69.17 | 40 | 66193.81 | 123.62 | 0 | 1 |\n| 64.20 | 27 | 66200.96 | 227.63 | 1 | 0 |\n| 43.70 | 28 | 63126.96 | 173.01 | 0 | 1 |\n| 72.97 | 30 | 71384.57 | 208.58 | 1 | 1 |\n| 51.30 | 45 | 67782.17 | 134.42 | 1 | 1 |\n| 51.63 | 51 | 42415.72 | 120.37 | 1 | 1 |\n| 55.55 | 19 | 41920.79 | 187.95 | 0 | 0 |\n| 45.01 | 26 | 29875.80 | 178.35 | 0 | 1 |\n\n",
            "text/html": [
              "<table>\n",
              "<caption>A tibble: 1000 × 6</caption>\n",
              "<thead>\n",
              "\t<tr><th scope=col>Daily Time Spent on Site</th><th scope=col>Age</th><th scope=col>Area Income</th><th scope=col>Daily Internet Usage</th><th scope=col>Male</th><th scope=col>Clicked on Ad</th></tr>\n",
              "\t<tr><th scope=col>&lt;dbl&gt;</th><th scope=col>&lt;dbl&gt;</th><th scope=col>&lt;dbl&gt;</th><th scope=col>&lt;dbl&gt;</th><th scope=col>&lt;dbl&gt;</th><th scope=col>&lt;dbl&gt;</th></tr>\n",
              "</thead>\n",
              "<tbody>\n",
              "\t<tr><td>68.95</td><td>35</td><td>61833.90</td><td>256.09</td><td>0</td><td>0</td></tr>\n",
              "\t<tr><td>80.23</td><td>31</td><td>68441.85</td><td>193.77</td><td>1</td><td>0</td></tr>\n",
              "\t<tr><td>69.47</td><td>26</td><td>59785.94</td><td>236.50</td><td>0</td><td>0</td></tr>\n",
              "\t<tr><td>74.15</td><td>29</td><td>54806.18</td><td>245.89</td><td>1</td><td>0</td></tr>\n",
              "\t<tr><td>68.37</td><td>35</td><td>73889.99</td><td>225.58</td><td>0</td><td>0</td></tr>\n",
              "\t<tr><td>59.99</td><td>23</td><td>59761.56</td><td>226.74</td><td>1</td><td>0</td></tr>\n",
              "\t<tr><td>88.91</td><td>33</td><td>53852.85</td><td>208.36</td><td>0</td><td>0</td></tr>\n",
              "\t<tr><td>66.00</td><td>48</td><td>24593.33</td><td>131.76</td><td>1</td><td>1</td></tr>\n",
              "\t<tr><td>74.53</td><td>30</td><td>68862.00</td><td>221.51</td><td>1</td><td>0</td></tr>\n",
              "\t<tr><td>69.88</td><td>20</td><td>55642.32</td><td>183.82</td><td>1</td><td>0</td></tr>\n",
              "\t<tr><td>47.64</td><td>49</td><td>45632.51</td><td>122.02</td><td>0</td><td>1</td></tr>\n",
              "\t<tr><td>83.07</td><td>37</td><td>62491.01</td><td>230.87</td><td>1</td><td>0</td></tr>\n",
              "\t<tr><td>69.57</td><td>48</td><td>51636.92</td><td>113.12</td><td>1</td><td>1</td></tr>\n",
              "\t<tr><td>79.52</td><td>24</td><td>51739.63</td><td>214.23</td><td>0</td><td>0</td></tr>\n",
              "\t<tr><td>42.95</td><td>33</td><td>30976.00</td><td>143.56</td><td>0</td><td>1</td></tr>\n",
              "\t<tr><td>63.45</td><td>23</td><td>52182.23</td><td>140.64</td><td>1</td><td>1</td></tr>\n",
              "\t<tr><td>55.39</td><td>37</td><td>23936.86</td><td>129.41</td><td>0</td><td>1</td></tr>\n",
              "\t<tr><td>82.03</td><td>41</td><td>71511.08</td><td>187.53</td><td>0</td><td>0</td></tr>\n",
              "\t<tr><td>54.70</td><td>36</td><td>31087.54</td><td>118.39</td><td>1</td><td>1</td></tr>\n",
              "\t<tr><td>74.58</td><td>40</td><td>23821.72</td><td>135.51</td><td>1</td><td>1</td></tr>\n",
              "\t<tr><td>77.22</td><td>30</td><td>64802.33</td><td>224.44</td><td>1</td><td>0</td></tr>\n",
              "\t<tr><td>84.59</td><td>35</td><td>60015.57</td><td>226.54</td><td>1</td><td>0</td></tr>\n",
              "\t<tr><td>41.49</td><td>52</td><td>32635.70</td><td>164.83</td><td>0</td><td>1</td></tr>\n",
              "\t<tr><td>87.29</td><td>36</td><td>61628.72</td><td>209.93</td><td>1</td><td>0</td></tr>\n",
              "\t<tr><td>41.39</td><td>41</td><td>68962.32</td><td>167.22</td><td>0</td><td>1</td></tr>\n",
              "\t<tr><td>78.74</td><td>28</td><td>64828.00</td><td>204.79</td><td>1</td><td>0</td></tr>\n",
              "\t<tr><td>48.53</td><td>28</td><td>38067.08</td><td>134.14</td><td>1</td><td>1</td></tr>\n",
              "\t<tr><td>51.95</td><td>52</td><td>58295.82</td><td>129.23</td><td>0</td><td>1</td></tr>\n",
              "\t<tr><td>70.20</td><td>34</td><td>32708.94</td><td>119.20</td><td>0</td><td>1</td></tr>\n",
              "\t<tr><td>76.02</td><td>22</td><td>46179.97</td><td>209.82</td><td>0</td><td>0</td></tr>\n",
              "\t<tr><td>⋮</td><td>⋮</td><td>⋮</td><td>⋮</td><td>⋮</td><td>⋮</td></tr>\n",
              "\t<tr><td>40.18</td><td>29</td><td>50760.23</td><td>151.96</td><td>0</td><td>1</td></tr>\n",
              "\t<tr><td>45.17</td><td>48</td><td>34418.09</td><td>132.07</td><td>1</td><td>1</td></tr>\n",
              "\t<tr><td>50.48</td><td>50</td><td>20592.99</td><td>162.43</td><td>0</td><td>1</td></tr>\n",
              "\t<tr><td>80.87</td><td>28</td><td>63528.80</td><td>203.30</td><td>0</td><td>0</td></tr>\n",
              "\t<tr><td>41.88</td><td>40</td><td>44217.68</td><td>126.11</td><td>1</td><td>1</td></tr>\n",
              "\t<tr><td>39.87</td><td>48</td><td>47929.83</td><td>139.34</td><td>1</td><td>1</td></tr>\n",
              "\t<tr><td>61.84</td><td>45</td><td>46024.29</td><td>105.63</td><td>1</td><td>1</td></tr>\n",
              "\t<tr><td>54.97</td><td>31</td><td>51900.03</td><td>116.38</td><td>1</td><td>1</td></tr>\n",
              "\t<tr><td>71.40</td><td>30</td><td>72188.90</td><td>166.31</td><td>0</td><td>0</td></tr>\n",
              "\t<tr><td>70.29</td><td>31</td><td>56974.51</td><td>254.65</td><td>1</td><td>0</td></tr>\n",
              "\t<tr><td>67.26</td><td>57</td><td>25682.65</td><td>168.41</td><td>1</td><td>1</td></tr>\n",
              "\t<tr><td>76.58</td><td>46</td><td>41884.64</td><td>258.26</td><td>0</td><td>0</td></tr>\n",
              "\t<tr><td>54.37</td><td>38</td><td>72196.29</td><td>140.77</td><td>0</td><td>1</td></tr>\n",
              "\t<tr><td>82.79</td><td>32</td><td>54429.17</td><td>234.81</td><td>1</td><td>0</td></tr>\n",
              "\t<tr><td>66.47</td><td>31</td><td>58037.66</td><td>256.39</td><td>1</td><td>0</td></tr>\n",
              "\t<tr><td>72.88</td><td>44</td><td>64011.26</td><td>125.12</td><td>0</td><td>1</td></tr>\n",
              "\t<tr><td>76.44</td><td>28</td><td>59967.19</td><td>232.68</td><td>1</td><td>0</td></tr>\n",
              "\t<tr><td>63.37</td><td>43</td><td>43155.19</td><td>105.04</td><td>1</td><td>1</td></tr>\n",
              "\t<tr><td>89.71</td><td>48</td><td>51501.38</td><td>204.40</td><td>1</td><td>0</td></tr>\n",
              "\t<tr><td>70.96</td><td>31</td><td>55187.85</td><td>256.40</td><td>0</td><td>0</td></tr>\n",
              "\t<tr><td>35.79</td><td>44</td><td>33813.08</td><td>165.62</td><td>1</td><td>1</td></tr>\n",
              "\t<tr><td>38.96</td><td>38</td><td>36497.22</td><td>140.67</td><td>1</td><td>1</td></tr>\n",
              "\t<tr><td>69.17</td><td>40</td><td>66193.81</td><td>123.62</td><td>0</td><td>1</td></tr>\n",
              "\t<tr><td>64.20</td><td>27</td><td>66200.96</td><td>227.63</td><td>1</td><td>0</td></tr>\n",
              "\t<tr><td>43.70</td><td>28</td><td>63126.96</td><td>173.01</td><td>0</td><td>1</td></tr>\n",
              "\t<tr><td>72.97</td><td>30</td><td>71384.57</td><td>208.58</td><td>1</td><td>1</td></tr>\n",
              "\t<tr><td>51.30</td><td>45</td><td>67782.17</td><td>134.42</td><td>1</td><td>1</td></tr>\n",
              "\t<tr><td>51.63</td><td>51</td><td>42415.72</td><td>120.37</td><td>1</td><td>1</td></tr>\n",
              "\t<tr><td>55.55</td><td>19</td><td>41920.79</td><td>187.95</td><td>0</td><td>0</td></tr>\n",
              "\t<tr><td>45.01</td><td>26</td><td>29875.80</td><td>178.35</td><td>0</td><td>1</td></tr>\n",
              "</tbody>\n",
              "</table>\n"
            ]
          },
          "metadata": {
            "tags": []
          }
        }
      ]
    },
    {
      "cell_type": "code",
      "metadata": {
        "id": "Nmeb1qHj204g",
        "outputId": "5fe12d2f-8f7c-40a6-ce66-9274a03306a7",
        "colab": {
          "base_uri": "https://localhost:8080/",
          "height": 437
        }
      },
      "source": [
        "# Plotting the boxplot of the numeric columns\n",
        "boxplot(data_num)"
      ],
      "execution_count": 12,
      "outputs": [
        {
          "output_type": "display_data",
          "data": {
            "image/png": "[encoded data removed]",
            "text/plain": [
              "plot without title"
            ]
          },
          "metadata": {
            "tags": [],
            "image/png": {
              "width": 420,
              "height": 420
            }
          }
        }
      ]
    },
    {
      "cell_type": "markdown",
      "metadata": {
        "id": "tkvz6auQPM5S"
      },
      "source": [
        "\n",
        "\n",
        "> There were outliers only on the area income column. Now to check the values\n",
        "\n"
      ]
    },
    {
      "cell_type": "code",
      "metadata": {
        "id": "F9Jz5qS9nUZt",
        "outputId": "cc1904e7-fa1f-4f4b-9133-759bff22a4d6",
        "colab": {
          "base_uri": "https://localhost:8080/",
          "height": 34
        }
      },
      "source": [
        "# There were only outliers in the Area Income column\n",
        "# Checking the number of outliers\n",
        "boxplot.stats(advertising$`Area Income`)$out"
      ],
      "execution_count": 13,
      "outputs": [
        {
          "output_type": "display_data",
          "data": {
            "text/plain": [
              "[1] 17709.98 18819.34 15598.29 15879.10 14548.06 13996.50 14775.50 18368.57"
            ],
            "text/latex": "\\begin{enumerate*}\n\\item 17709.98\n\\item 18819.34\n\\item 15598.29\n\\item 15879.1\n\\item 14548.06\n\\item 13996.5\n\\item 14775.5\n\\item 18368.57\n\\end{enumerate*}\n",
            "text/markdown": "1. 17709.98\n2. 18819.34\n3. 15598.29\n4. 15879.1\n5. 14548.06\n6. 13996.5\n7. 14775.5\n8. 18368.57\n\n\n",
            "text/html": [
              "<style>\n",
              ".list-inline {list-style: none; margin:0; padding: 0}\n",
              ".list-inline>li {display: inline-block}\n",
              ".list-inline>li:not(:last-child)::after {content: \"\\00b7\"; padding: 0 .5ex}\n",
              "</style>\n",
              "<ol class=list-inline><li>17709.98</li><li>18819.34</li><li>15598.29</li><li>15879.1</li><li>14548.06</li><li>13996.5</li><li>14775.5</li><li>18368.57</li></ol>\n"
            ]
          },
          "metadata": {
            "tags": []
          }
        }
      ]
    },
    {
      "cell_type": "code",
      "metadata": {
        "id": "KvyzvwT4wzw0",
        "outputId": "e65a2e50-7c81-4846-d849-300c04dd5190",
        "colab": {
          "base_uri": "https://localhost:8080/",
          "height": 75
        }
      },
      "source": [
        "# Checking for dupicated rows\n",
        "duplicate_rows <- advertising[duplicated(advertising),]\n",
        "duplicate_rows"
      ],
      "execution_count": 14,
      "outputs": [
        {
          "output_type": "display_data",
          "data": {
            "text/plain": [
              "     Daily Time Spent on Site Age Area Income Daily Internet Usage\n",
              "     Ad Topic Line City Male Country Timestamp Clicked on Ad"
            ],
            "text/latex": "A tibble: 0 × 10\n\\begin{tabular}{llllllllll}\n Daily Time Spent on Site & Age & Area Income & Daily Internet Usage & Ad Topic Line & City & Male & Country & Timestamp & Clicked on Ad\\\\\n <dbl> & <dbl> & <dbl> & <dbl> & <chr> & <chr> & <dbl> & <chr> & <dttm> & <dbl>\\\\\n\\hline\n\\end{tabular}\n",
            "text/markdown": "\nA tibble: 0 × 10\n\n| Daily Time Spent on Site &lt;dbl&gt; | Age &lt;dbl&gt; | Area Income &lt;dbl&gt; | Daily Internet Usage &lt;dbl&gt; | Ad Topic Line &lt;chr&gt; | City &lt;chr&gt; | Male &lt;dbl&gt; | Country &lt;chr&gt; | Timestamp &lt;dttm&gt; | Clicked on Ad &lt;dbl&gt; |\n|---|---|---|---|---|---|---|---|---|---|\n\n",
            "text/html": [
              "<table>\n",
              "<caption>A tibble: 0 × 10</caption>\n",
              "<thead>\n",
              "\t<tr><th scope=col>Daily Time Spent on Site</th><th scope=col>Age</th><th scope=col>Area Income</th><th scope=col>Daily Internet Usage</th><th scope=col>Ad Topic Line</th><th scope=col>City</th><th scope=col>Male</th><th scope=col>Country</th><th scope=col>Timestamp</th><th scope=col>Clicked on Ad</th></tr>\n",
              "\t<tr><th scope=col>&lt;dbl&gt;</th><th scope=col>&lt;dbl&gt;</th><th scope=col>&lt;dbl&gt;</th><th scope=col>&lt;dbl&gt;</th><th scope=col>&lt;chr&gt;</th><th scope=col>&lt;chr&gt;</th><th scope=col>&lt;dbl&gt;</th><th scope=col>&lt;chr&gt;</th><th scope=col>&lt;dttm&gt;</th><th scope=col>&lt;dbl&gt;</th></tr>\n",
              "</thead>\n",
              "<tbody>\n",
              "</tbody>\n",
              "</table>\n"
            ]
          },
          "metadata": {
            "tags": []
          }
        }
      ]
    },
    {
      "cell_type": "markdown",
      "metadata": {
        "id": "PPATz8eWPc7Z"
      },
      "source": [
        "\n",
        "\n",
        "> There were no duplicated rows in the dataset\n",
        "\n"
      ]
    },
    {
      "cell_type": "code",
      "metadata": {
        "id": "ms7RFx9Cy3XV"
      },
      "source": [
        "# Making all the columns lower cased for uniformity\n",
        "names(advertising) <- str_replace_all(names(advertising), c(\" \" = \"_\"))\n",
        "names(advertising) <- tolower(names(advertising))"
      ],
      "execution_count": 15,
      "outputs": []
    },
    {
      "cell_type": "markdown",
      "metadata": {
        "id": "Q8k1DnV4wi5e"
      },
      "source": [
        "# Exploratory Analysis"
      ]
    },
    {
      "cell_type": "markdown",
      "metadata": {
        "id": "Ie1dzTjawnmB"
      },
      "source": [
        "## Univariate Analysis"
      ]
    },
    {
      "cell_type": "markdown",
      "metadata": {
        "id": "VtqH3ouJxWIk"
      },
      "source": [
        "\n",
        "\n",
        "> **Measure of Central Tendency**\n",
        "\n",
        "\n",
        "\n"
      ]
    },
    {
      "cell_type": "code",
      "metadata": {
        "id": "XPNBCgHmwWt5",
        "outputId": "a217383a-1398-4f63-ec12-b3b4fb1dde61",
        "colab": {
          "base_uri": "https://localhost:8080/",
          "height": 0
        }
      },
      "source": [
        "# Unfotunately, R does not have a standard in-built function to calculate mode so we have to build one\n",
        "# We create the mode function that will perform our mode operation for us\n",
        "# ---\n",
        "# \n",
        "getmode <- function(v) {\n",
        "   uniqv <- unique(v)\n",
        "   uniqv[which.max(tabulate(match(v, uniqv)))]\n",
        "}\n",
        "\n",
        "# I combined the mean median and the mode\n",
        "attach(advertising)\n",
        "mean(area_income); median(area_income);getmode(area_income)\n"
      ],
      "execution_count": 16,
      "outputs": [
        {
          "output_type": "display_data",
          "data": {
            "text/plain": [
              "[1] 55000"
            ],
            "text/latex": "55000.00008",
            "text/markdown": "55000.00008",
            "text/html": [
              "55000.00008"
            ]
          },
          "metadata": {
            "tags": []
          }
        },
        {
          "output_type": "display_data",
          "data": {
            "text/plain": [
              "[1] 57012.3"
            ],
            "text/latex": "57012.3",
            "text/markdown": "57012.3",
            "text/html": [
              "57012.3"
            ]
          },
          "metadata": {
            "tags": []
          }
        },
        {
          "output_type": "display_data",
          "data": {
            "text/plain": [
              "[1] 61833.9"
            ],
            "text/latex": "61833.9",
            "text/markdown": "61833.9",
            "text/html": [
              "61833.9"
            ]
          },
          "metadata": {
            "tags": []
          }
        }
      ]
    },
    {
      "cell_type": "code",
      "metadata": {
        "id": "pWIUjVseze4q",
        "outputId": "77b00c28-aa4e-4c5c-cc53-7d1691e516cf",
        "colab": {
          "base_uri": "https://localhost:8080/",
          "height": 0
        }
      },
      "source": [
        "# I combined the mean median and the mode\n",
        "mean(age); median(age);getmode(age)"
      ],
      "execution_count": 17,
      "outputs": [
        {
          "output_type": "display_data",
          "data": {
            "text/plain": [
              "[1] 36.009"
            ],
            "text/latex": "36.009",
            "text/markdown": "36.009",
            "text/html": [
              "36.009"
            ]
          },
          "metadata": {
            "tags": []
          }
        },
        {
          "output_type": "display_data",
          "data": {
            "text/plain": [
              "[1] 35"
            ],
            "text/latex": "35",
            "text/markdown": "35",
            "text/html": [
              "35"
            ]
          },
          "metadata": {
            "tags": []
          }
        },
        {
          "output_type": "display_data",
          "data": {
            "text/plain": [
              "[1] 31"
            ],
            "text/latex": "31",
            "text/markdown": "31",
            "text/html": [
              "31"
            ]
          },
          "metadata": {
            "tags": []
          }
        }
      ]
    },
    {
      "cell_type": "code",
      "metadata": {
        "id": "gJPXkzVoz5qe",
        "outputId": "8601915f-1693-4b82-a9d1-538c69f700db",
        "colab": {
          "base_uri": "https://localhost:8080/",
          "height": 0
        }
      },
      "source": [
        "# I combined the mean median and the mode\n",
        "mean(daily_time_spent_on_site); median(daily_time_spent_on_site);getmode(daily_time_spent_on_site)"
      ],
      "execution_count": 18,
      "outputs": [
        {
          "output_type": "display_data",
          "data": {
            "text/plain": [
              "[1] 65.0002"
            ],
            "text/latex": "65.0002",
            "text/markdown": "65.0002",
            "text/html": [
              "65.0002"
            ]
          },
          "metadata": {
            "tags": []
          }
        },
        {
          "output_type": "display_data",
          "data": {
            "text/plain": [
              "[1] 68.215"
            ],
            "text/latex": "68.215",
            "text/markdown": "68.215",
            "text/html": [
              "68.215"
            ]
          },
          "metadata": {
            "tags": []
          }
        },
        {
          "output_type": "display_data",
          "data": {
            "text/plain": [
              "[1] 62.26"
            ],
            "text/latex": "62.26",
            "text/markdown": "62.26",
            "text/html": [
              "62.26"
            ]
          },
          "metadata": {
            "tags": []
          }
        }
      ]
    },
    {
      "cell_type": "code",
      "metadata": {
        "id": "rQZDHOcK0P25",
        "outputId": "fc5ce38d-f896-4525-956f-ff63d239a811",
        "colab": {
          "base_uri": "https://localhost:8080/",
          "height": 0
        }
      },
      "source": [
        "# I combined the mean median and the mode\n",
        "mean(daily_internet_usage); median(daily_internet_usage);getmode(daily_internet_usage)"
      ],
      "execution_count": 19,
      "outputs": [
        {
          "output_type": "display_data",
          "data": {
            "text/plain": [
              "[1] 180.0001"
            ],
            "text/latex": "180.0001",
            "text/markdown": "180.0001",
            "text/html": [
              "180.0001"
            ]
          },
          "metadata": {
            "tags": []
          }
        },
        {
          "output_type": "display_data",
          "data": {
            "text/plain": [
              "[1] 183.13"
            ],
            "text/latex": "183.13",
            "text/markdown": "183.13",
            "text/html": [
              "183.13"
            ]
          },
          "metadata": {
            "tags": []
          }
        },
        {
          "output_type": "display_data",
          "data": {
            "text/plain": [
              "[1] 167.22"
            ],
            "text/latex": "167.22",
            "text/markdown": "167.22",
            "text/html": [
              "167.22"
            ]
          },
          "metadata": {
            "tags": []
          }
        }
      ]
    },
    {
      "cell_type": "markdown",
      "metadata": {
        "id": "1U8r2_v46PIy"
      },
      "source": [
        "\n",
        "\n",
        "> **Measure of Dispersion**\n",
        "\n"
      ]
    },
    {
      "cell_type": "code",
      "metadata": {
        "id": "SgbNq-u32drj",
        "outputId": "79748b69-37e9-48d7-cf3a-64f9fe16c753",
        "colab": {
          "base_uri": "https://localhost:8080/",
          "height": 0
        }
      },
      "source": [
        "# I combined all on one code\n",
        "min(daily_time_spent_on_site); max(daily_time_spent_on_site);range(daily_time_spent_on_site); quantile(daily_time_spent_on_site); var(daily_time_spent_on_site);sd(daily_time_spent_on_site) "
      ],
      "execution_count": 20,
      "outputs": [
        {
          "output_type": "display_data",
          "data": {
            "text/plain": [
              "[1] 32.6"
            ],
            "text/latex": "32.6",
            "text/markdown": "32.6",
            "text/html": [
              "32.6"
            ]
          },
          "metadata": {
            "tags": []
          }
        },
        {
          "output_type": "display_data",
          "data": {
            "text/plain": [
              "[1] 91.43"
            ],
            "text/latex": "91.43",
            "text/markdown": "91.43",
            "text/html": [
              "91.43"
            ]
          },
          "metadata": {
            "tags": []
          }
        },
        {
          "output_type": "display_data",
          "data": {
            "text/plain": [
              "[1] 32.60 91.43"
            ],
            "text/latex": "\\begin{enumerate*}\n\\item 32.6\n\\item 91.43\n\\end{enumerate*}\n",
            "text/markdown": "1. 32.6\n2. 91.43\n\n\n",
            "text/html": [
              "<style>\n",
              ".list-inline {list-style: none; margin:0; padding: 0}\n",
              ".list-inline>li {display: inline-block}\n",
              ".list-inline>li:not(:last-child)::after {content: \"\\00b7\"; padding: 0 .5ex}\n",
              "</style>\n",
              "<ol class=list-inline><li>32.6</li><li>91.43</li></ol>\n"
            ]
          },
          "metadata": {
            "tags": []
          }
        },
        {
          "output_type": "display_data",
          "data": {
            "text/plain": [
              "     0%     25%     50%     75%    100% \n",
              "32.6000 51.3600 68.2150 78.5475 91.4300 "
            ],
            "text/latex": "\\begin{description*}\n\\item[0\\textbackslash{}\\%] 32.6\n\\item[25\\textbackslash{}\\%] 51.36\n\\item[50\\textbackslash{}\\%] 68.215\n\\item[75\\textbackslash{}\\%] 78.5475\n\\item[100\\textbackslash{}\\%] 91.43\n\\end{description*}\n",
            "text/markdown": "0%\n:   32.625%\n:   51.3650%\n:   68.21575%\n:   78.5475100%\n:   91.43\n\n",
            "text/html": [
              "<style>\n",
              ".dl-inline {width: auto; margin:0; padding: 0}\n",
              ".dl-inline>dt, .dl-inline>dd {float: none; width: auto; display: inline-block}\n",
              ".dl-inline>dt::after {content: \":\\0020\"; padding-right: .5ex}\n",
              ".dl-inline>dt:not(:first-of-type) {padding-left: .5ex}\n",
              "</style><dl class=dl-inline><dt>0%</dt><dd>32.6</dd><dt>25%</dt><dd>51.36</dd><dt>50%</dt><dd>68.215</dd><dt>75%</dt><dd>78.5475</dd><dt>100%</dt><dd>91.43</dd></dl>\n"
            ]
          },
          "metadata": {
            "tags": []
          }
        },
        {
          "output_type": "display_data",
          "data": {
            "text/plain": [
              "[1] 251.3371"
            ],
            "text/latex": "251.337094854855",
            "text/markdown": "251.337094854855",
            "text/html": [
              "251.337094854855"
            ]
          },
          "metadata": {
            "tags": []
          }
        },
        {
          "output_type": "display_data",
          "data": {
            "text/plain": [
              "[1] 15.85361"
            ],
            "text/latex": "15.8536145675002",
            "text/markdown": "15.8536145675002",
            "text/html": [
              "15.8536145675002"
            ]
          },
          "metadata": {
            "tags": []
          }
        }
      ]
    },
    {
      "cell_type": "code",
      "metadata": {
        "id": "6SW5nWZH7GUB",
        "outputId": "3d7127f2-c260-45eb-d209-5fec7cf3c08b",
        "colab": {
          "base_uri": "https://localhost:8080/",
          "height": 0
        }
      },
      "source": [
        "# Getting the summary\n",
        "summary(advertising)"
      ],
      "execution_count": 21,
      "outputs": [
        {
          "output_type": "display_data",
          "data": {
            "text/plain": [
              " daily_time_spent_on_site      age         area_income    daily_internet_usage\n",
              " Min.   :32.60            Min.   :19.00   Min.   :13996   Min.   :104.8       \n",
              " 1st Qu.:51.36            1st Qu.:29.00   1st Qu.:47032   1st Qu.:138.8       \n",
              " Median :68.22            Median :35.00   Median :57012   Median :183.1       \n",
              " Mean   :65.00            Mean   :36.01   Mean   :55000   Mean   :180.0       \n",
              " 3rd Qu.:78.55            3rd Qu.:42.00   3rd Qu.:65471   3rd Qu.:218.8       \n",
              " Max.   :91.43            Max.   :61.00   Max.   :79485   Max.   :270.0       \n",
              " ad_topic_line          city                male         country         \n",
              " Length:1000        Length:1000        Min.   :0.000   Length:1000       \n",
              " Class :character   Class :character   1st Qu.:0.000   Class :character  \n",
              " Mode  :character   Mode  :character   Median :0.000   Mode  :character  \n",
              "                                       Mean   :0.481                     \n",
              "                                       3rd Qu.:1.000                     \n",
              "                                       Max.   :1.000                     \n",
              "   timestamp                   clicked_on_ad\n",
              " Min.   :2016-01-01 02:52:10   Min.   :0.0  \n",
              " 1st Qu.:2016-02-18 02:55:42   1st Qu.:0.0  \n",
              " Median :2016-04-07 17:27:29   Median :0.5  \n",
              " Mean   :2016-04-10 10:34:06   Mean   :0.5  \n",
              " 3rd Qu.:2016-05-31 03:18:14   3rd Qu.:1.0  \n",
              " Max.   :2016-07-24 00:22:16   Max.   :1.0  "
            ]
          },
          "metadata": {
            "tags": []
          }
        }
      ]
    },
    {
      "cell_type": "markdown",
      "metadata": {
        "id": "vOb0001Q7ljQ"
      },
      "source": [
        "\n",
        "\n",
        "> **Boxplot**\n",
        "\n"
      ]
    },
    {
      "cell_type": "code",
      "metadata": {
        "id": "w1F7dEA-7SBi",
        "outputId": "5a27b70f-4623-44c7-d6e4-f6f87519f22f",
        "colab": {
          "base_uri": "https://localhost:8080/",
          "height": 0
        }
      },
      "source": [
        "# Checking for the outliers area_income column since it's the only one with outliers\n",
        "boxplot(advertising$area_income)"
      ],
      "execution_count": 22,
      "outputs": [
        {
          "output_type": "display_data",
          "data": {
            "image/png": "[encoded data removed]",
            "text/plain": [
              "plot without title"
            ]
          },
          "metadata": {
            "tags": [],
            "image/png": {
              "width": 420,
              "height": 420
            }
          }
        }
      ]
    },
    {
      "cell_type": "markdown",
      "metadata": {
        "id": "dFW3t4MG72ik"
      },
      "source": [
        "\n",
        "\n",
        "> **Frequency Distribution Table**\n",
        "\n"
      ]
    },
    {
      "cell_type": "code",
      "metadata": {
        "id": "3mcQSVHq7qga",
        "outputId": "9037d6b4-1a54-4a0a-c244-2483488841e7",
        "colab": {
          "base_uri": "https://localhost:8080/",
          "height": 0
        }
      },
      "source": [
        "# Fetching the age column\n",
        "age <- advertising$age\n",
        "\n",
        "# Applying the table() function will compute the frequency distribution of the age variable\n",
        "age_frequency <- table(age)\n",
        "\n",
        "# Then applying the barplot function to produce its bar graph\n",
        "barplot(age_frequency)"
      ],
      "execution_count": 23,
      "outputs": [
        {
          "output_type": "display_data",
          "data": {
            "image/png": "[encoded data removed]",
            "text/plain": [
              "plot without title"
            ]
          },
          "metadata": {
            "tags": [],
            "image/png": {
              "width": 420,
              "height": 420
            }
          }
        }
      ]
    },
    {
      "cell_type": "markdown",
      "metadata": {
        "id": "ah5arzHAP_Cl"
      },
      "source": [
        "\n",
        "\n",
        "> The highest age for people who clicked on the ads was around 28 to 37 years.\n",
        "\n"
      ]
    },
    {
      "cell_type": "markdown",
      "metadata": {
        "id": "YL0bP9gwbv_r"
      },
      "source": [
        "\n",
        "\n",
        "> **Histogram**\n",
        "\n"
      ]
    },
    {
      "cell_type": "code",
      "metadata": {
        "id": "cDPbM3yo9Qlz",
        "outputId": "3ac97bfe-549f-4029-841b-55eb1141b7aa",
        "colab": {
          "base_uri": "https://localhost:8080/",
          "height": 0
        }
      },
      "source": [
        "hist(advertising$male)"
      ],
      "execution_count": 24,
      "outputs": [
        {
          "output_type": "display_data",
          "data": {
            "image/png": "[encoded data removed]",
            "text/plain": [
              "Plot with title “Histogram of advertising$male”"
            ]
          },
          "metadata": {
            "tags": [],
            "image/png": {
              "width": 420,
              "height": 420
            }
          }
        }
      ]
    },
    {
      "cell_type": "markdown",
      "metadata": {
        "id": "yPkdspi5QSDA"
      },
      "source": [
        "\n",
        "\n",
        "> There was a slight difference between the number of men and women who clicked on the ads.\n",
        "\n"
      ]
    },
    {
      "cell_type": "code",
      "metadata": {
        "id": "HoIaj87qczsN",
        "outputId": "bed07132-218c-4777-ed4f-ac1a398379ea",
        "colab": {
          "base_uri": "https://localhost:8080/",
          "height": 0
        }
      },
      "source": [
        "hist(advertising$daily_time_spent_on_site)"
      ],
      "execution_count": 25,
      "outputs": [
        {
          "output_type": "display_data",
          "data": {
            "image/png": "[encoded data removed]",
            "text/plain": [
              "Plot with title “Histogram of advertising$daily_time_spent_on_site”"
            ]
          },
          "metadata": {
            "tags": [],
            "image/png": {
              "width": 420,
              "height": 420
            }
          }
        }
      ]
    },
    {
      "cell_type": "code",
      "metadata": {
        "id": "BvaYYY_jdEyE",
        "outputId": "d4043f2d-b729-4920-f004-48d99dfa186a",
        "colab": {
          "base_uri": "https://localhost:8080/",
          "height": 0
        }
      },
      "source": [
        "hist(advertising$age)"
      ],
      "execution_count": 26,
      "outputs": [
        {
          "output_type": "display_data",
          "data": {
            "image/png": "[encoded data removed]",
            "text/plain": [
              "Plot with title “Histogram of advertising$age”"
            ]
          },
          "metadata": {
            "tags": [],
            "image/png": {
              "width": 420,
              "height": 420
            }
          }
        }
      ]
    },
    {
      "cell_type": "code",
      "metadata": {
        "id": "2F5neq6DdMWN",
        "outputId": "4b6cfb23-4a88-4ce3-b58b-befd2894f1a0",
        "colab": {
          "base_uri": "https://localhost:8080/",
          "height": 0
        }
      },
      "source": [
        "hist(advertising$area_income)"
      ],
      "execution_count": 27,
      "outputs": [
        {
          "output_type": "display_data",
          "data": {
            "image/png": "[encoded data removed]",
            "text/plain": [
              "Plot with title “Histogram of advertising$area_income”"
            ]
          },
          "metadata": {
            "tags": [],
            "image/png": {
              "width": 420,
              "height": 420
            }
          }
        }
      ]
    },
    {
      "cell_type": "markdown",
      "metadata": {
        "id": "6eEMjZfWQk2j"
      },
      "source": [
        "\n",
        "\n",
        "> Most people who clicked on the ads earned more than the mean area income of 55000.\n",
        "\n"
      ]
    },
    {
      "cell_type": "markdown",
      "metadata": {
        "id": "hZUayY3leFs0"
      },
      "source": [
        "## Bivariate Analysis"
      ]
    },
    {
      "cell_type": "markdown",
      "metadata": {
        "id": "i77k988geWZD"
      },
      "source": [
        "\n",
        "\n",
        "> **Covariance**\n",
        "\n"
      ]
    },
    {
      "cell_type": "code",
      "metadata": {
        "id": "m7oLhSKjddtd",
        "outputId": "d969f74b-e730-4467-8cce-2b00c240065f",
        "colab": {
          "base_uri": "https://localhost:8080/",
          "height": 34
        }
      },
      "source": [
        "# Finding the covariance between daily_time_spent_on_site and age\n",
        "# Assigning a variable to each column\n",
        "site_time <- advertising$daily_time_spent_on_site\n",
        "age <- advertising$age\n",
        "cov(site_time, age)"
      ],
      "execution_count": 28,
      "outputs": [
        {
          "output_type": "display_data",
          "data": {
            "text/plain": [
              "[1] -46.17415"
            ],
            "text/latex": "-46.1741459459459",
            "text/markdown": "-46.1741459459459",
            "text/html": [
              "-46.1741459459459"
            ]
          },
          "metadata": {
            "tags": []
          }
        }
      ]
    },
    {
      "cell_type": "code",
      "metadata": {
        "id": "pGZUPQ6NfOh1",
        "outputId": "f2db53d4-7d17-43f1-c861-4b794438c855",
        "colab": {
          "base_uri": "https://localhost:8080/",
          "height": 34
        }
      },
      "source": [
        "# Covariance between daily_time_spent_on_site and income\n",
        "income <- advertising$area_income\n",
        "cov(site_time, income)"
      ],
      "execution_count": 29,
      "outputs": [
        {
          "output_type": "display_data",
          "data": {
            "text/plain": [
              "[1] 66130.81"
            ],
            "text/latex": "66130.8109081922",
            "text/markdown": "66130.8109081922",
            "text/html": [
              "66130.8109081922"
            ]
          },
          "metadata": {
            "tags": []
          }
        }
      ]
    },
    {
      "cell_type": "markdown",
      "metadata": {
        "id": "CniZ1W4TRjmx"
      },
      "source": [
        "\n",
        "\n",
        "> This indicated a positive linear relationship between area_income and daily_time_spent_on_site.\n",
        "\n"
      ]
    },
    {
      "cell_type": "markdown",
      "metadata": {
        "id": "GN2COdH6gP82"
      },
      "source": [
        "\n",
        "\n",
        "> **Correlation**\n",
        "\n"
      ]
    },
    {
      "cell_type": "code",
      "metadata": {
        "id": "R3iiAQP2f9QF",
        "outputId": "e32ebe37-90f7-4143-f5bf-bc0851292639",
        "colab": {
          "base_uri": "https://localhost:8080/",
          "height": 34
        }
      },
      "source": [
        "# Correlation between daily_time_spent_on_site and age\n",
        "cor(site_time, age)"
      ],
      "execution_count": 30,
      "outputs": [
        {
          "output_type": "display_data",
          "data": {
            "text/plain": [
              "[1] -0.3315133"
            ],
            "text/latex": "-0.331513342786584",
            "text/markdown": "-0.331513342786584",
            "text/html": [
              "-0.331513342786584"
            ]
          },
          "metadata": {
            "tags": []
          }
        }
      ]
    },
    {
      "cell_type": "code",
      "metadata": {
        "id": "p-r_9Xt2gJi5",
        "outputId": "c14be8c5-1f16-4f94-ef17-e1fb4a5e0213",
        "colab": {
          "base_uri": "https://localhost:8080/",
          "height": 34
        }
      },
      "source": [
        "# Correlation between daily_time_spent_on_site and area_income\n",
        "cor(site_time, income)"
      ],
      "execution_count": 31,
      "outputs": [
        {
          "output_type": "display_data",
          "data": {
            "text/plain": [
              "[1] 0.3109544"
            ],
            "text/latex": "0.310954412522883",
            "text/markdown": "0.310954412522883",
            "text/html": [
              "0.310954412522883"
            ]
          },
          "metadata": {
            "tags": []
          }
        }
      ]
    },
    {
      "cell_type": "code",
      "metadata": {
        "id": "Y8VLyFxhgw1i",
        "outputId": "da9dfffc-d6fb-4a4e-ed2d-a61c6dfb853a",
        "colab": {
          "base_uri": "https://localhost:8080/",
          "height": 34
        }
      },
      "source": [
        "# Correlation between clicked_on_ad and age\n",
        "cor(advertising$age, advertising$clicked_on_ad)"
      ],
      "execution_count": 32,
      "outputs": [
        {
          "output_type": "display_data",
          "data": {
            "text/plain": [
              "[1] 0.4925313"
            ],
            "text/latex": "0.492531265556038",
            "text/markdown": "0.492531265556038",
            "text/html": [
              "0.492531265556038"
            ]
          },
          "metadata": {
            "tags": []
          }
        }
      ]
    },
    {
      "cell_type": "code",
      "metadata": {
        "id": "IW5BRJr9g4A2",
        "outputId": "ad70e5c1-86c3-4e3e-a59a-e00c54e0f3b1",
        "colab": {
          "base_uri": "https://localhost:8080/",
          "height": 34
        }
      },
      "source": [
        "# Correlation between clicked_on_ad and male\n",
        "cor(advertising$male, advertising$clicked_on_ad)"
      ],
      "execution_count": 33,
      "outputs": [
        {
          "output_type": "display_data",
          "data": {
            "text/plain": [
              "[1] -0.03802747"
            ],
            "text/latex": "-0.0380274657489881",
            "text/markdown": "-0.0380274657489881",
            "text/html": [
              "-0.0380274657489881"
            ]
          },
          "metadata": {
            "tags": []
          }
        }
      ]
    },
    {
      "cell_type": "code",
      "metadata": {
        "id": "y847tjumgZWc",
        "outputId": "ebd82de4-706a-4f1d-fefd-c38642782bf5",
        "colab": {
          "base_uri": "https://localhost:8080/",
          "height": 34
        }
      },
      "source": [
        "# Correlation between clicked_on_ad and area_income\n",
        "cor(advertising$area_income, advertising$clicked_on_ad)"
      ],
      "execution_count": 34,
      "outputs": [
        {
          "output_type": "display_data",
          "data": {
            "text/plain": [
              "[1] -0.4762546"
            ],
            "text/latex": "-0.476254627532145",
            "text/markdown": "-0.476254627532145",
            "text/html": [
              "-0.476254627532145"
            ]
          },
          "metadata": {
            "tags": []
          }
        }
      ]
    },
    {
      "cell_type": "code",
      "metadata": {
        "id": "8x65oY6ThBhB",
        "outputId": "9d2a2cad-b53a-48f2-8024-bd7c0e3bb19f",
        "colab": {
          "base_uri": "https://localhost:8080/",
          "height": 34
        }
      },
      "source": [
        "# Correlation between clicked_on_ad and daily_internet_usage\n",
        "clicked <- advertising$clicked_on_ad\n",
        "net_use <- advertising$daily_internet_usage\n",
        "cor(advertising$daily_internet_usage, advertising$clicked_on_ad)"
      ],
      "execution_count": 35,
      "outputs": [
        {
          "output_type": "display_data",
          "data": {
            "text/plain": [
              "[1] -0.7865392"
            ],
            "text/latex": "-0.78653917587149",
            "text/markdown": "-0.78653917587149",
            "text/html": [
              "-0.78653917587149"
            ]
          },
          "metadata": {
            "tags": []
          }
        }
      ]
    },
    {
      "cell_type": "markdown",
      "metadata": {
        "id": "KKTaEjCVheae"
      },
      "source": [
        "\n",
        "\n",
        "> **Scatterplot**\n",
        "\n"
      ]
    },
    {
      "cell_type": "code",
      "metadata": {
        "id": "aK5IqI5K8Mvy",
        "outputId": "3e8680af-9dcc-4037-dc3f-f13f15c2540e",
        "colab": {
          "base_uri": "https://localhost:8080/",
          "height": 417
        }
      },
      "source": [
        "head(advertising)"
      ],
      "execution_count": 36,
      "outputs": [
        {
          "output_type": "display_data",
          "data": {
            "text/plain": [
              "  daily_time_spent_on_site age area_income daily_internet_usage\n",
              "1 68.95                    35  61833.90    256.09              \n",
              "2 80.23                    31  68441.85    193.77              \n",
              "3 69.47                    26  59785.94    236.50              \n",
              "4 74.15                    29  54806.18    245.89              \n",
              "5 68.37                    35  73889.99    225.58              \n",
              "6 59.99                    23  59761.56    226.74              \n",
              "  ad_topic_line                         city           male country   \n",
              "1 Cloned 5thgeneration orchestration    Wrightburgh    0    Tunisia   \n",
              "2 Monitored national standardization    West Jodi      1    Nauru     \n",
              "3 Organic bottom-line service-desk      Davidton       0    San Marino\n",
              "4 Triple-buffered reciprocal time-frame West Terrifurt 1    Italy     \n",
              "5 Robust logistical utilization         South Manuel   0    Iceland   \n",
              "6 Sharable client-driven software       Jamieberg      1    Norway    \n",
              "  timestamp           clicked_on_ad\n",
              "1 2016-03-27 00:53:11 0            \n",
              "2 2016-04-04 01:39:02 0            \n",
              "3 2016-03-13 20:35:42 0            \n",
              "4 2016-01-10 02:31:19 0            \n",
              "5 2016-06-03 03:36:18 0            \n",
              "6 2016-05-19 14:30:17 0            "
            ],
            "text/latex": "A tibble: 6 × 10\n\\begin{tabular}{llllllllll}\n daily\\_time\\_spent\\_on\\_site & age & area\\_income & daily\\_internet\\_usage & ad\\_topic\\_line & city & male & country & timestamp & clicked\\_on\\_ad\\\\\n <dbl> & <dbl> & <dbl> & <dbl> & <chr> & <chr> & <dbl> & <chr> & <dttm> & <dbl>\\\\\n\\hline\n\t 68.95 & 35 & 61833.90 & 256.09 & Cloned 5thgeneration orchestration    & Wrightburgh    & 0 & Tunisia    & 2016-03-27 00:53:11 & 0\\\\\n\t 80.23 & 31 & 68441.85 & 193.77 & Monitored national standardization    & West Jodi      & 1 & Nauru      & 2016-04-04 01:39:02 & 0\\\\\n\t 69.47 & 26 & 59785.94 & 236.50 & Organic bottom-line service-desk      & Davidton       & 0 & San Marino & 2016-03-13 20:35:42 & 0\\\\\n\t 74.15 & 29 & 54806.18 & 245.89 & Triple-buffered reciprocal time-frame & West Terrifurt & 1 & Italy      & 2016-01-10 02:31:19 & 0\\\\\n\t 68.37 & 35 & 73889.99 & 225.58 & Robust logistical utilization         & South Manuel   & 0 & Iceland    & 2016-06-03 03:36:18 & 0\\\\\n\t 59.99 & 23 & 59761.56 & 226.74 & Sharable client-driven software       & Jamieberg      & 1 & Norway     & 2016-05-19 14:30:17 & 0\\\\\n\\end{tabular}\n",
            "text/markdown": "\nA tibble: 6 × 10\n\n| daily_time_spent_on_site &lt;dbl&gt; | age &lt;dbl&gt; | area_income &lt;dbl&gt; | daily_internet_usage &lt;dbl&gt; | ad_topic_line &lt;chr&gt; | city &lt;chr&gt; | male &lt;dbl&gt; | country &lt;chr&gt; | timestamp &lt;dttm&gt; | clicked_on_ad &lt;dbl&gt; |\n|---|---|---|---|---|---|---|---|---|---|\n| 68.95 | 35 | 61833.90 | 256.09 | Cloned 5thgeneration orchestration    | Wrightburgh    | 0 | Tunisia    | 2016-03-27 00:53:11 | 0 |\n| 80.23 | 31 | 68441.85 | 193.77 | Monitored national standardization    | West Jodi      | 1 | Nauru      | 2016-04-04 01:39:02 | 0 |\n| 69.47 | 26 | 59785.94 | 236.50 | Organic bottom-line service-desk      | Davidton       | 0 | San Marino | 2016-03-13 20:35:42 | 0 |\n| 74.15 | 29 | 54806.18 | 245.89 | Triple-buffered reciprocal time-frame | West Terrifurt | 1 | Italy      | 2016-01-10 02:31:19 | 0 |\n| 68.37 | 35 | 73889.99 | 225.58 | Robust logistical utilization         | South Manuel   | 0 | Iceland    | 2016-06-03 03:36:18 | 0 |\n| 59.99 | 23 | 59761.56 | 226.74 | Sharable client-driven software       | Jamieberg      | 1 | Norway     | 2016-05-19 14:30:17 | 0 |\n\n",
            "text/html": [
              "<table>\n",
              "<caption>A tibble: 6 × 10</caption>\n",
              "<thead>\n",
              "\t<tr><th scope=col>daily_time_spent_on_site</th><th scope=col>age</th><th scope=col>area_income</th><th scope=col>daily_internet_usage</th><th scope=col>ad_topic_line</th><th scope=col>city</th><th scope=col>male</th><th scope=col>country</th><th scope=col>timestamp</th><th scope=col>clicked_on_ad</th></tr>\n",
              "\t<tr><th scope=col>&lt;dbl&gt;</th><th scope=col>&lt;dbl&gt;</th><th scope=col>&lt;dbl&gt;</th><th scope=col>&lt;dbl&gt;</th><th scope=col>&lt;chr&gt;</th><th scope=col>&lt;chr&gt;</th><th scope=col>&lt;dbl&gt;</th><th scope=col>&lt;chr&gt;</th><th scope=col>&lt;dttm&gt;</th><th scope=col>&lt;dbl&gt;</th></tr>\n",
              "</thead>\n",
              "<tbody>\n",
              "\t<tr><td>68.95</td><td>35</td><td>61833.90</td><td>256.09</td><td>Cloned 5thgeneration orchestration   </td><td>Wrightburgh   </td><td>0</td><td>Tunisia   </td><td>2016-03-27 00:53:11</td><td>0</td></tr>\n",
              "\t<tr><td>80.23</td><td>31</td><td>68441.85</td><td>193.77</td><td>Monitored national standardization   </td><td>West Jodi     </td><td>1</td><td>Nauru     </td><td>2016-04-04 01:39:02</td><td>0</td></tr>\n",
              "\t<tr><td>69.47</td><td>26</td><td>59785.94</td><td>236.50</td><td>Organic bottom-line service-desk     </td><td>Davidton      </td><td>0</td><td>San Marino</td><td>2016-03-13 20:35:42</td><td>0</td></tr>\n",
              "\t<tr><td>74.15</td><td>29</td><td>54806.18</td><td>245.89</td><td>Triple-buffered reciprocal time-frame</td><td>West Terrifurt</td><td>1</td><td>Italy     </td><td>2016-01-10 02:31:19</td><td>0</td></tr>\n",
              "\t<tr><td>68.37</td><td>35</td><td>73889.99</td><td>225.58</td><td>Robust logistical utilization        </td><td>South Manuel  </td><td>0</td><td>Iceland   </td><td>2016-06-03 03:36:18</td><td>0</td></tr>\n",
              "\t<tr><td>59.99</td><td>23</td><td>59761.56</td><td>226.74</td><td>Sharable client-driven software      </td><td>Jamieberg     </td><td>1</td><td>Norway    </td><td>2016-05-19 14:30:17</td><td>0</td></tr>\n",
              "</tbody>\n",
              "</table>\n"
            ]
          },
          "metadata": {
            "tags": []
          }
        }
      ]
    },
    {
      "cell_type": "code",
      "metadata": {
        "id": "HoL8Fqmrhi46",
        "outputId": "35447dce-6c34-4dc9-9efc-8f3e7cbd4ba7",
        "colab": {
          "base_uri": "https://localhost:8080/",
          "height": 437
        }
      },
      "source": [
        "plot(site_time, income, xlab=\"Time spent on site\", ylab=\"Area income\")"
      ],
      "execution_count": 37,
      "outputs": [
        {
          "output_type": "display_data",
          "data": {
            "image/png": "[encoded data removed]",
            "text/plain": [
              "plot without title"
            ]
          },
          "metadata": {
            "tags": [],
            "image/png": {
              "width": 420,
              "height": 420
            }
          }
        }
      ]
    },
    {
      "cell_type": "markdown",
      "metadata": {
        "id": "rrBKJL-s01kj"
      },
      "source": [
        "# Implementing the solution"
      ]
    },
    {
      "cell_type": "code",
      "metadata": {
        "id": "tpGXNwoU05uD"
      },
      "source": [
        "#Create a dataframe that selects those that clicked on an ad\n",
        "yes <-  advertising %>% filter(advertising$clicked_on_ad  == 1);   # Select those  clicked on ad"
      ],
      "execution_count": 39,
      "outputs": []
    },
    {
      "cell_type": "code",
      "metadata": {
        "id": "uWA-2WHHiHvL",
        "outputId": "cb679710-91c7-417d-97b2-950e1ac03a64",
        "colab": {
          "base_uri": "https://localhost:8080/",
          "height": 370
        }
      },
      "source": [
        "# A summary of those that clicked\n",
        "summary(yes)"
      ],
      "execution_count": 40,
      "outputs": [
        {
          "output_type": "display_data",
          "data": {
            "text/plain": [
              " daily_time_spent_on_site      age         area_income    daily_internet_usage\n",
              " Min.   :32.60            Min.   :19.00   Min.   :13996   Min.   :104.8       \n",
              " 1st Qu.:42.84            1st Qu.:34.00   1st Qu.:39107   1st Qu.:123.6       \n",
              " Median :51.53            Median :40.00   Median :49417   Median :138.8       \n",
              " Mean   :53.15            Mean   :40.33   Mean   :48614   Mean   :145.5       \n",
              " 3rd Qu.:62.08            3rd Qu.:47.00   3rd Qu.:59241   3rd Qu.:161.2       \n",
              " Max.   :91.37            Max.   :61.00   Max.   :78521   Max.   :270.0       \n",
              " ad_topic_line          city                male         country         \n",
              " Length:500         Length:500         Min.   :0.000   Length:500        \n",
              " Class :character   Class :character   1st Qu.:0.000   Class :character  \n",
              " Mode  :character   Mode  :character   Median :0.000   Mode  :character  \n",
              "                                       Mean   :0.462                     \n",
              "                                       3rd Qu.:1.000                     \n",
              "                                       Max.   :1.000                     \n",
              "   timestamp                   clicked_on_ad\n",
              " Min.   :2016-01-01 15:14:24   Min.   :1    \n",
              " 1st Qu.:2016-02-18 16:58:39   1st Qu.:1    \n",
              " Median :2016-04-09 07:39:50   Median :1    \n",
              " Mean   :2016-04-11 07:50:41   Mean   :1    \n",
              " 3rd Qu.:2016-05-31 07:02:23   3rd Qu.:1    \n",
              " Max.   :2016-07-24 00:22:16   Max.   :1    "
            ]
          },
          "metadata": {
            "tags": []
          }
        }
      ]
    },
    {
      "cell_type": "code",
      "metadata": {
        "id": "28k1am0YzM0V",
        "outputId": "81c21e28-4a59-437c-d77c-3ce7d5dc2fba",
        "colab": {
          "base_uri": "https://localhost:8080/",
          "height": 1000
        }
      },
      "source": [
        "#See the various distributions\n",
        "\n",
        "#Age distribution\n",
        "hist(yes$age, col='maroon')\n",
        "\n",
        "#See the area_incomedistribution \n",
        "hist(yes$area_income, col='yellow')\n",
        "\n",
        "#See the daily_internet_usage distribution \n",
        "hist(yes$daily_internet_usage, col='blueviolet')\n",
        "\n",
        "#daily_time_spent_on_site distribution \n",
        "hist(yes$daily_time_spent_on_site, col='green')"
      ],
      "execution_count": 42,
      "outputs": [
        {
          "output_type": "display_data",
          "data": {
            "image/png": "[encoded data removed]",
            "text/plain": [
              "Plot with title “Histogram of yes$age”"
            ]
          },
          "metadata": {
            "tags": [],
            "image/png": {
              "width": 420,
              "height": 420
            }
          }
        },
        {
          "output_type": "display_data",
          "data": {
            "image/png": "[encoded data removed]",
            "text/plain": [
              "Plot with title “Histogram of yes$area_income”"
            ]
          },
          "metadata": {
            "tags": [],
            "image/png": {
              "width": 420,
              "height": 420
            }
          }
        },
        {
          "output_type": "display_data",
          "data": {
            "image/png": "[encoded data removed]",
            "text/plain": [
              "Plot with title “Histogram of yes$daily_internet_usage”"
            ]
          },
          "metadata": {
            "tags": [],
            "image/png": {
              "width": 420,
              "height": 420
            }
          }
        },
        {
          "output_type": "display_data",
          "data": {
            "image/png": "[encoded data removed]",
            "text/plain": [
              "Plot with title “Histogram of yes$daily_time_spent_on_site”"
            ]
          },
          "metadata": {
            "tags": [],
            "image/png": {
              "width": 420,
              "height": 420
            }
          }
        }
      ]
    },
    {
      "cell_type": "code",
      "metadata": {
        "id": "aZ8SM3hgz04E",
        "outputId": "b0e302d0-95d9-424e-dd6c-047b3b290144",
        "colab": {
          "base_uri": "https://localhost:8080/",
          "height": 1000
        }
      },
      "source": [
        "#Distribution of the countries \n",
        "\n",
        "countries <- table(yes$country)\n",
        "countries"
      ],
      "execution_count": 44,
      "outputs": [
        {
          "output_type": "display_data",
          "data": {
            "text/plain": [
              "\n",
              "                                        Afghanistan \n",
              "                                                  5 \n",
              "                                            Albania \n",
              "                                                  4 \n",
              "                                            Algeria \n",
              "                                                  3 \n",
              "                                     American Samoa \n",
              "                                                  3 \n",
              "                                            Andorra \n",
              "                                                  2 \n",
              "                                             Angola \n",
              "                                                  1 \n",
              "                                           Anguilla \n",
              "                                                  3 \n",
              "       Antarctica (the territory South of 60 deg S) \n",
              "                                                  2 \n",
              "                                Antigua and Barbuda \n",
              "                                                  4 \n",
              "                                          Argentina \n",
              "                                                  1 \n",
              "                                            Armenia \n",
              "                                                  1 \n",
              "                                          Australia \n",
              "                                                  7 \n",
              "                                            Austria \n",
              "                                                  1 \n",
              "                                         Azerbaijan \n",
              "                                                  1 \n",
              "                                            Bahamas \n",
              "                                                  4 \n",
              "                                            Bahrain \n",
              "                                                  2 \n",
              "                                         Bangladesh \n",
              "                                                  2 \n",
              "                                           Barbados \n",
              "                                                  2 \n",
              "                                            Belarus \n",
              "                                                  3 \n",
              "                                            Belgium \n",
              "                                                  2 \n",
              "                                             Belize \n",
              "                                                  3 \n",
              "                                              Benin \n",
              "                                                  1 \n",
              "                                             Bhutan \n",
              "                                                  1 \n",
              "                             Bosnia and Herzegovina \n",
              "                                                  3 \n",
              "                          Bouvet Island (Bouvetoya) \n",
              "                                                  2 \n",
              "                                             Brazil \n",
              "                                                  3 \n",
              "British Indian Ocean Territory (Chagos Archipelago) \n",
              "                                                  1 \n",
              "                             British Virgin Islands \n",
              "                                                  1 \n",
              "                                  Brunei Darussalam \n",
              "                                                  2 \n",
              "                                           Bulgaria \n",
              "                                                  4 \n",
              "                                       Burkina Faso \n",
              "                                                  1 \n",
              "                                            Burundi \n",
              "                                                  2 \n",
              "                                           Cambodia \n",
              "                                                  2 \n",
              "                                             Canada \n",
              "                                                  3 \n",
              "                                     Cayman Islands \n",
              "                                                  3 \n",
              "                           Central African Republic \n",
              "                                                  1 \n",
              "                                               Chad \n",
              "                                                  2 \n",
              "                                              Chile \n",
              "                                                  3 \n",
              "                                              China \n",
              "                                                  4 \n",
              "                                   Christmas Island \n",
              "                                                  4 \n",
              "                                           Colombia \n",
              "                                                  1 \n",
              "                                            Comoros \n",
              "                                                  1 \n",
              "                                              Congo \n",
              "                                                  3 \n",
              "                                       Cook Islands \n",
              "                                                  1 \n",
              "                                         Costa Rica \n",
              "                                                  2 \n",
              "                                      Cote d'Ivoire \n",
              "                                                  3 \n",
              "                                               Cuba \n",
              "                                                  4 \n",
              "                                             Cyprus \n",
              "                                                  4 \n",
              "                                     Czech Republic \n",
              "                                                  4 \n",
              "                                            Denmark \n",
              "                                                  2 \n",
              "                                           Djibouti \n",
              "                                                  1 \n",
              "                                           Dominica \n",
              "                                                  2 \n",
              "                                 Dominican Republic \n",
              "                                                  2 \n",
              "                                            Ecuador \n",
              "                                                  2 \n",
              "                                              Egypt \n",
              "                                                  3 \n",
              "                                        El Salvador \n",
              "                                                  4 \n",
              "                                  Equatorial Guinea \n",
              "                                                  3 \n",
              "                                            Eritrea \n",
              "                                                  3 \n",
              "                                            Estonia \n",
              "                                                  1 \n",
              "                                           Ethiopia \n",
              "                                                  7 \n",
              "                        Falkland Islands (Malvinas) \n",
              "                                                  2 \n",
              "                                      Faroe Islands \n",
              "                                                  2 \n",
              "                                               Fiji \n",
              "                                                  3 \n",
              "                                            Finland \n",
              "                                                  1 \n",
              "                                             France \n",
              "                                                  5 \n",
              "                                      French Guiana \n",
              "                                                  3 \n",
              "                                   French Polynesia \n",
              "                                                  1 \n",
              "                        French Southern Territories \n",
              "                                                  1 \n",
              "                                             Gambia \n",
              "                                                  1 \n",
              "                                            Georgia \n",
              "                                                  2 \n",
              "                                            Germany \n",
              "                                                  1 \n",
              "                                              Ghana \n",
              "                                                  2 \n",
              "                                             Greece \n",
              "                                                  3 \n",
              "                                          Greenland \n",
              "                                                  1 \n",
              "                                            Grenada \n",
              "                                                  2 \n",
              "                                         Guadeloupe \n",
              "                                                  1 \n",
              "                                               Guam \n",
              "                                                  2 \n",
              "                                          Guatemala \n",
              "                                                  3 \n",
              "                                           Guernsey \n",
              "                                                  2 \n",
              "                                             Guinea \n",
              "                                                  2 \n",
              "                                      Guinea-Bissau \n",
              "                                                  1 \n",
              "                                             Guyana \n",
              "                                                  3 \n",
              "                                              Haiti \n",
              "                                                  1 \n",
              "                  Heard Island and McDonald Islands \n",
              "                                                  2 \n",
              "                      Holy See (Vatican City State) \n",
              "                                                  1 \n",
              "                                           Honduras \n",
              "                                                  2 \n",
              "                                          Hong Kong \n",
              "                                                  4 \n",
              "                                            Hungary \n",
              "                                                  5 \n",
              "                                            Iceland \n",
              "                                                  1 \n",
              "                                          Indonesia \n",
              "                                                  4 \n",
              "                                               Iran \n",
              "                                                  3 \n",
              "                                            Ireland \n",
              "                                                  1 \n",
              "                                        Isle of Man \n",
              "                                                  1 \n",
              "                                             Israel \n",
              "                                                  2 \n",
              "                                              Italy \n",
              "                                                  1 \n",
              "                                            Jamaica \n",
              "                                                  2 \n",
              "                                              Japan \n",
              "                                                  2 \n",
              "                                             Jersey \n",
              "                                                  4 \n",
              "                                         Kazakhstan \n",
              "                                                  2 \n",
              "                                              Kenya \n",
              "                                                  4 \n",
              "                                           Kiribati \n",
              "                                                  1 \n",
              "                                              Korea \n",
              "                                                  3 \n",
              "                                             Kuwait \n",
              "                                                  1 \n",
              "                                    Kyrgyz Republic \n",
              "                                                  1 \n",
              "                   Lao People's Democratic Republic \n",
              "                                                  2 \n",
              "                                             Latvia \n",
              "                                                  4 \n",
              "                                            Lebanon \n",
              "                                                  4 \n",
              "                                            Liberia \n",
              "                                                  6 \n",
              "                             Libyan Arab Jamahiriya \n",
              "                                                  2 \n",
              "                                      Liechtenstein \n",
              "                                                  6 \n",
              "                                          Lithuania \n",
              "                                                  3 \n",
              "                                         Luxembourg \n",
              "                                                  3 \n",
              "                                              Macao \n",
              "                                                  3 \n",
              "                                          Macedonia \n",
              "                                                  1 \n",
              "                                         Madagascar \n",
              "                                                  2 \n",
              "                                             Malawi \n",
              "                                                  2 \n",
              "                                           Maldives \n",
              "                                                  2 \n",
              "                                               Mali \n",
              "                                                  1 \n",
              "                                              Malta \n",
              "                                                  3 \n",
              "                                   Marshall Islands \n",
              "                                                  1 \n",
              "                                         Martinique \n",
              "                                                  3 \n",
              "                                         Mauritania \n",
              "                                                  1 \n",
              "                                          Mauritius \n",
              "                                                  1 \n",
              "                                            Mayotte \n",
              "                                                  5 \n",
              "                                             Mexico \n",
              "                                                  4 \n",
              "                                         Micronesia \n",
              "                                                  4 \n",
              "                                            Moldova \n",
              "                                                  2 \n",
              "                                             Monaco \n",
              "                                                  1 \n",
              "                                           Mongolia \n",
              "                                                  4 \n",
              "                                         Montenegro \n",
              "                                                  2 \n",
              "                                         Montserrat \n",
              "                                                  1 \n",
              "                                            Morocco \n",
              "                                                  1 \n",
              "                                            Myanmar \n",
              "                                                  1 \n",
              "                                            Namibia \n",
              "                                                  1 \n",
              "                                              Nauru \n",
              "                                                  1 \n",
              "                                        Netherlands \n",
              "                                                  3 \n",
              "                               Netherlands Antilles \n",
              "                                                  2 \n",
              "                                      New Caledonia \n",
              "                                                  2 \n",
              "                                        New Zealand \n",
              "                                                  2 \n",
              "                                              Niger \n",
              "                                                  2 \n",
              "                                     Norfolk Island \n",
              "                                                  2 \n",
              "                           Northern Mariana Islands \n",
              "                                                  2 \n",
              "                                             Norway \n",
              "                                                  1 \n",
              "                                           Pakistan \n",
              "                                                  1 \n",
              "                                              Palau \n",
              "                                                  2 \n",
              "                              Palestinian Territory \n",
              "                                                  2 \n",
              "                                   Papua New Guinea \n",
              "                                                  3 \n",
              "                                           Paraguay \n",
              "                                                  1 \n",
              "                                               Peru \n",
              "                                                  5 \n",
              "                                        Philippines \n",
              "                                                  3 \n",
              "                                   Pitcairn Islands \n",
              "                                                  1 \n",
              "                                             Poland \n",
              "                                                  3 \n",
              "                                           Portugal \n",
              "                                                  1 \n",
              "                                        Puerto Rico \n",
              "                                                  3 \n",
              "                                              Qatar \n",
              "                                                  2 \n",
              "                                            Romania \n",
              "                                                  1 \n",
              "                                 Russian Federation \n",
              "                                                  1 \n",
              "                                             Rwanda \n",
              "                                                  2 \n",
              "                                   Saint Barthelemy \n",
              "                                                  2 \n",
              "                                       Saint Helena \n",
              "                                                  2 \n",
              "                              Saint Kitts and Nevis \n",
              "                                                  1 \n",
              "                                        Saint Lucia \n",
              "                                                  1 \n",
              "                                       Saint Martin \n",
              "                                                  2 \n",
              "                          Saint Pierre and Miquelon \n",
              "                                                  3 \n",
              "                   Saint Vincent and the Grenadines \n",
              "                                                  3 \n",
              "                                              Samoa \n",
              "                                                  4 \n",
              "                                         San Marino \n",
              "                                                  1 \n",
              "                              Sao Tome and Principe \n",
              "                                                  2 \n",
              "                                       Saudi Arabia \n",
              "                                                  3 \n",
              "                                            Senegal \n",
              "                                                  5 \n",
              "                                             Serbia \n",
              "                                                  3 \n",
              "                                         Seychelles \n",
              "                                                  1 \n",
              "                                       Sierra Leone \n",
              "                                                  2 \n",
              "                                          Singapore \n",
              "                                                  1 \n",
              "                                           Slovenia \n",
              "                                                  1 \n",
              "                                            Somalia \n",
              "                                                  2 \n",
              "                                       South Africa \n",
              "                                                  6 \n",
              "       South Georgia and the South Sandwich Islands \n",
              "                                                  1 \n",
              "                                              Spain \n",
              "                                                  3 \n",
              "                                           Suriname \n",
              "                                                  1 \n",
              "                       Svalbard & Jan Mayen Islands \n",
              "                                                  4 \n",
              "                                             Sweden \n",
              "                                                  1 \n",
              "                                        Switzerland \n",
              "                                                  3 \n",
              "                               Syrian Arab Republic \n",
              "                                                  1 \n",
              "                                             Taiwan \n",
              "                                                  4 \n",
              "                                         Tajikistan \n",
              "                                                  2 \n",
              "                                           Tanzania \n",
              "                                                  1 \n",
              "                                           Thailand \n",
              "                                                  2 \n",
              "                                        Timor-Leste \n",
              "                                                  1 \n",
              "                                               Togo \n",
              "                                                  1 \n",
              "                                            Tokelau \n",
              "                                                  3 \n",
              "                                              Tonga \n",
              "                                                  2 \n",
              "                                Trinidad and Tobago \n",
              "                                                  2 \n",
              "                                            Tunisia \n",
              "                                                  1 \n",
              "                                             Turkey \n",
              "                                                  7 \n",
              "                                       Turkmenistan \n",
              "                                                  2 \n",
              "                           Turks and Caicos Islands \n",
              "                                                  3 \n",
              "                                             Tuvalu \n",
              "                                                  3 \n",
              "                                             Uganda \n",
              "                                                  4 \n",
              "                                            Ukraine \n",
              "                                                  1 \n",
              "                               United Arab Emirates \n",
              "                                                  3 \n",
              "                                     United Kingdom \n",
              "                                                  2 \n",
              "               United States Minor Outlying Islands \n",
              "                                                  2 \n",
              "                           United States of America \n",
              "                                                  3 \n",
              "                       United States Virgin Islands \n",
              "                                                  2 \n",
              "                                            Uruguay \n",
              "                                                  1 \n",
              "                                         Uzbekistan \n",
              "                                                  1 \n",
              "                                            Vanuatu \n",
              "                                                  1 \n",
              "                                          Venezuela \n",
              "                                                  3 \n",
              "                                            Vietnam \n",
              "                                                  2 \n",
              "                                  Wallis and Futuna \n",
              "                                                  1 \n",
              "                                     Western Sahara \n",
              "                                                  4 \n",
              "                                              Yemen \n",
              "                                                  2 \n",
              "                                             Zambia \n",
              "                                                  3 \n",
              "                                           Zimbabwe \n",
              "                                                  4 "
            ]
          },
          "metadata": {
            "tags": []
          }
        }
      ]
    },
    {
      "cell_type": "markdown",
      "metadata": {
        "id": "gyzOm24T0MtA"
      },
      "source": [
        "\n",
        "\n",
        "> These are the countries that should be focused on.\n",
        "\n"
      ]
    },
    {
      "cell_type": "markdown",
      "metadata": {
        "id": "vQ85b-iH0jv9"
      },
      "source": [
        "# Recommendations"
      ]
    },
    {
      "cell_type": "markdown",
      "metadata": {
        "id": "cHew14i10n7l"
      },
      "source": [
        "\n",
        "\n",
        "> It's recommended the client to focus on the ages between 30-45 since they had the most clicks. The area income of between 40000 to 60000 should also be considered. There's no difference in the time spent daily on the site as those who spent more or less still clicked on the ad.\n",
        "\n"
      ]
    }
  ]
}